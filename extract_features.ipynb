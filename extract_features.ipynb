{
 "cells": [
  {
   "cell_type": "code",
   "execution_count": 1,
   "metadata": {},
   "outputs": [],
   "source": [
    "!mkdir -p /scratch/sagarsj42/torch-cache\n",
    "!mkdir -p /scratch/sagarsj42/transformers\n",
    "import os\n",
    "os.chdir('/scratch/sagarsj42')\n",
    "os.environ['TORCH_HOME'] = '/scratch/sagarsj42/torch-cache'\n",
    "os.environ['TRANSFORMERS_CACHE'] = '/scratch/sagarsj42/transformers'"
   ]
  },
  {
   "cell_type": "code",
   "execution_count": 5,
   "metadata": {},
   "outputs": [],
   "source": [
    "import pandas as pd\n",
    "from deeppavlov import configs, build_model"
   ]
  },
  {
   "cell_type": "code",
   "execution_count": 3,
   "metadata": {},
   "outputs": [
    {
     "name": "stdout",
     "output_type": "stream",
     "text": [
      "semeval8-train-sss.csv                        100%   25MB  24.5MB/s   00:00    \n",
      "semeval8-dev.csv                              100% 2825KB   2.8MB/s   00:00    \n"
     ]
    }
   ],
   "source": [
    "!scp sagarsj42@ada:/share1/sagarsj42/semeval8-train-sss.csv .\n",
    "!scp sagarsj42@ada:/share1/sagarsj42/semeval8-dev.csv ."
   ]
  },
  {
   "cell_type": "code",
   "execution_count": 6,
   "metadata": {},
   "outputs": [
    {
     "data": {
      "text/plain": [
       "((4467, 20), (497, 20), (4953, 20))"
      ]
     },
     "execution_count": 6,
     "metadata": {},
     "output_type": "execute_result"
    }
   ],
   "source": [
    "train_df = pd.read_csv(os.path.join(os.getcwd(), 'semeval8-train-sss.csv'), index_col=0)\n",
    "dev_df = pd.read_csv('semeval8-dev.csv', index_col=0)\n",
    "test_df = pd.read_csv('semeval-2022-task-8-eval-df.csv', index_col=0)\n",
    "\n",
    "train_df.shape, dev_df.shape, test_df.shape"
   ]
  },
  {
   "cell_type": "code",
   "execution_count": 7,
   "metadata": {},
   "outputs": [
    {
     "data": {
      "text/html": [
       "<div>\n",
       "<style scoped>\n",
       "    .dataframe tbody tr th:only-of-type {\n",
       "        vertical-align: middle;\n",
       "    }\n",
       "\n",
       "    .dataframe tbody tr th {\n",
       "        vertical-align: top;\n",
       "    }\n",
       "\n",
       "    .dataframe thead th {\n",
       "        text-align: right;\n",
       "    }\n",
       "</style>\n",
       "<table border=\"1\" class=\"dataframe\">\n",
       "  <thead>\n",
       "    <tr style=\"text-align: right;\">\n",
       "      <th></th>\n",
       "      <th>pair_id</th>\n",
       "      <th>score</th>\n",
       "      <th>id_1</th>\n",
       "      <th>title_1</th>\n",
       "      <th>text_1</th>\n",
       "      <th>keywords_1</th>\n",
       "      <th>meta_keywords_1</th>\n",
       "      <th>tags_1</th>\n",
       "      <th>summary_1</th>\n",
       "      <th>meta_description_1</th>\n",
       "      <th>meta_lang_1</th>\n",
       "      <th>id_2</th>\n",
       "      <th>title_2</th>\n",
       "      <th>text_2</th>\n",
       "      <th>keywords_2</th>\n",
       "      <th>meta_keywords_2</th>\n",
       "      <th>tags_2</th>\n",
       "      <th>summary_2</th>\n",
       "      <th>meta_description_2</th>\n",
       "      <th>meta_lang_2</th>\n",
       "    </tr>\n",
       "  </thead>\n",
       "  <tbody>\n",
       "    <tr>\n",
       "      <th>1611</th>\n",
       "      <td>1484208071_1484059708</td>\n",
       "      <td>2.500000</td>\n",
       "      <td>1484208071</td>\n",
       "      <td>Koalition: Hofer warnt vor \"Linksregierung\"</td>\n",
       "      <td>FPÖ-Chef: 'Noch nie war eine Regierung persone...</td>\n",
       "      <td>[]</td>\n",
       "      <td>['']</td>\n",
       "      <td>[]</td>\n",
       "      <td>NaN</td>\n",
       "      <td>FPÖ-Chef: 'Noch nie war eine Regierung persone...</td>\n",
       "      <td>de</td>\n",
       "      <td>1484059708</td>\n",
       "      <td>Österreich: Neues Kabinett nimmt Form an</td>\n",
       "      <td>Karl Nehammer wird Innenminister, Klaudia Tann...</td>\n",
       "      <td>[]</td>\n",
       "      <td>['']</td>\n",
       "      <td>['Politik']</td>\n",
       "      <td>NaN</td>\n",
       "      <td>Das Kabinett der offenbar ins Haus stehenden t...</td>\n",
       "      <td>de</td>\n",
       "    </tr>\n",
       "    <tr>\n",
       "      <th>4317</th>\n",
       "      <td>1493864787_1541999376</td>\n",
       "      <td>3.000000</td>\n",
       "      <td>1493864787</td>\n",
       "      <td>WhatsApp: Diese beliebte Funktion gibt es in D...</td>\n",
       "      <td>Messenger\\n\\nWhatsApp-Chats ließen sich per Ba...</td>\n",
       "      <td>[]</td>\n",
       "      <td>['']</td>\n",
       "      <td>[]</td>\n",
       "      <td>NaN</td>\n",
       "      <td>WhatsApp-Chats ließen sich per Backup bisher e...</td>\n",
       "      <td>de</td>\n",
       "      <td>1541999376</td>\n",
       "      <td>WhatsApp dark mode introduced: 5 WhatsApp feat...</td>\n",
       "      <td>WhatsApp Dark mode is now available for all An...</td>\n",
       "      <td>[]</td>\n",
       "      <td>['whatsapp features', 'upcoming whatsapp featu...</td>\n",
       "      <td>[]</td>\n",
       "      <td>NaN</td>\n",
       "      <td>WhatsApp is testing some more feature that wil...</td>\n",
       "      <td>en</td>\n",
       "    </tr>\n",
       "    <tr>\n",
       "      <th>829</th>\n",
       "      <td>1484763358_1484635842</td>\n",
       "      <td>3.666667</td>\n",
       "      <td>1484763358</td>\n",
       "      <td>'It Warmed My Heart': Sachin Tendulkar Rings i...</td>\n",
       "      <td>Master blaster Sachin Tendulkar, on Wednesday,...</td>\n",
       "      <td>[]</td>\n",
       "      <td>['2020', 'cricket fan', 'cricket video viral',...</td>\n",
       "      <td>[]</td>\n",
       "      <td>NaN</td>\n",
       "      <td>Tendulkar tweeted a video clip of a differentl...</td>\n",
       "      <td>NaN</td>\n",
       "      <td>1484635842</td>\n",
       "      <td>Nia Sharma Begins Her New Year with a Dip in t...</td>\n",
       "      <td>Naagin 4 star Nia Sharma is making a bold styl...</td>\n",
       "      <td>[]</td>\n",
       "      <td>['lifestyle', 'Naagin 4', 'Nia Sharma', 'pictu...</td>\n",
       "      <td>[]</td>\n",
       "      <td>NaN</td>\n",
       "      <td>TV actress Nia Sharma flaunted her toned body ...</td>\n",
       "      <td>NaN</td>\n",
       "    </tr>\n",
       "    <tr>\n",
       "      <th>518</th>\n",
       "      <td>1483805573_1484265728</td>\n",
       "      <td>4.000000</td>\n",
       "      <td>1483805573</td>\n",
       "      <td>An Alabama woman texted ‘I feel in trouble’ be...</td>\n",
       "      <td>× An Alabama woman texted ‘I feel in trouble’ ...</td>\n",
       "      <td>[]</td>\n",
       "      <td>['national &amp; world news', '']</td>\n",
       "      <td>[]</td>\n",
       "      <td>NaN</td>\n",
       "      <td>A woman who disappeared after leaving an Alaba...</td>\n",
       "      <td>en</td>\n",
       "      <td>1484265728</td>\n",
       "      <td>Agencies receive firm support</td>\n",
       "      <td>Wallbridge Wallbridge law firm in Timmins dona...</td>\n",
       "      <td>[]</td>\n",
       "      <td>['']</td>\n",
       "      <td>[]</td>\n",
       "      <td>NaN</td>\n",
       "      <td>Wallbridge Wallbridge law firm in Timmins dona...</td>\n",
       "      <td>en</td>\n",
       "    </tr>\n",
       "    <tr>\n",
       "      <th>4312</th>\n",
       "      <td>1605429954_1591825952</td>\n",
       "      <td>4.000000</td>\n",
       "      <td>1605429954</td>\n",
       "      <td>Parlament in Winterthur – Teure Ratsdebatten i...</td>\n",
       "      <td>Parlament in Winterthur – Teure Ratsdebatten i...</td>\n",
       "      <td>[]</td>\n",
       "      <td>['']</td>\n",
       "      <td>[]</td>\n",
       "      <td>NaN</td>\n",
       "      <td>Das Coronavirus schickte den Grossen Gemeinder...</td>\n",
       "      <td>de</td>\n",
       "      <td>1591825952</td>\n",
       "      <td>Coronavirus and Your Supply Chain</td>\n",
       "      <td>Sign Me Up to receive the free Logistics Brief...</td>\n",
       "      <td>[]</td>\n",
       "      <td>['']</td>\n",
       "      <td>[]</td>\n",
       "      <td>NaN</td>\n",
       "      <td>NaN</td>\n",
       "      <td>en</td>\n",
       "    </tr>\n",
       "  </tbody>\n",
       "</table>\n",
       "</div>"
      ],
      "text/plain": [
       "                    pair_id     score        id_1  \\\n",
       "1611  1484208071_1484059708  2.500000  1484208071   \n",
       "4317  1493864787_1541999376  3.000000  1493864787   \n",
       "829   1484763358_1484635842  3.666667  1484763358   \n",
       "518   1483805573_1484265728  4.000000  1483805573   \n",
       "4312  1605429954_1591825952  4.000000  1605429954   \n",
       "\n",
       "                                                title_1  \\\n",
       "1611        Koalition: Hofer warnt vor \"Linksregierung\"   \n",
       "4317  WhatsApp: Diese beliebte Funktion gibt es in D...   \n",
       "829   'It Warmed My Heart': Sachin Tendulkar Rings i...   \n",
       "518   An Alabama woman texted ‘I feel in trouble’ be...   \n",
       "4312  Parlament in Winterthur – Teure Ratsdebatten i...   \n",
       "\n",
       "                                                 text_1 keywords_1  \\\n",
       "1611  FPÖ-Chef: 'Noch nie war eine Regierung persone...         []   \n",
       "4317  Messenger\\n\\nWhatsApp-Chats ließen sich per Ba...         []   \n",
       "829   Master blaster Sachin Tendulkar, on Wednesday,...         []   \n",
       "518   × An Alabama woman texted ‘I feel in trouble’ ...         []   \n",
       "4312  Parlament in Winterthur – Teure Ratsdebatten i...         []   \n",
       "\n",
       "                                        meta_keywords_1 tags_1 summary_1  \\\n",
       "1611                                               ['']     []       NaN   \n",
       "4317                                               ['']     []       NaN   \n",
       "829   ['2020', 'cricket fan', 'cricket video viral',...     []       NaN   \n",
       "518                       ['national & world news', '']     []       NaN   \n",
       "4312                                               ['']     []       NaN   \n",
       "\n",
       "                                     meta_description_1 meta_lang_1  \\\n",
       "1611  FPÖ-Chef: 'Noch nie war eine Regierung persone...          de   \n",
       "4317  WhatsApp-Chats ließen sich per Backup bisher e...          de   \n",
       "829   Tendulkar tweeted a video clip of a differentl...         NaN   \n",
       "518   A woman who disappeared after leaving an Alaba...          en   \n",
       "4312  Das Coronavirus schickte den Grossen Gemeinder...          de   \n",
       "\n",
       "            id_2                                            title_2  \\\n",
       "1611  1484059708           Österreich: Neues Kabinett nimmt Form an   \n",
       "4317  1541999376  WhatsApp dark mode introduced: 5 WhatsApp feat...   \n",
       "829   1484635842  Nia Sharma Begins Her New Year with a Dip in t...   \n",
       "518   1484265728                      Agencies receive firm support   \n",
       "4312  1591825952                  Coronavirus and Your Supply Chain   \n",
       "\n",
       "                                                 text_2 keywords_2  \\\n",
       "1611  Karl Nehammer wird Innenminister, Klaudia Tann...         []   \n",
       "4317  WhatsApp Dark mode is now available for all An...         []   \n",
       "829   Naagin 4 star Nia Sharma is making a bold styl...         []   \n",
       "518   Wallbridge Wallbridge law firm in Timmins dona...         []   \n",
       "4312  Sign Me Up to receive the free Logistics Brief...         []   \n",
       "\n",
       "                                        meta_keywords_2       tags_2  \\\n",
       "1611                                               ['']  ['Politik']   \n",
       "4317  ['whatsapp features', 'upcoming whatsapp featu...           []   \n",
       "829   ['lifestyle', 'Naagin 4', 'Nia Sharma', 'pictu...           []   \n",
       "518                                                ['']           []   \n",
       "4312                                               ['']           []   \n",
       "\n",
       "     summary_2                                 meta_description_2 meta_lang_2  \n",
       "1611       NaN  Das Kabinett der offenbar ins Haus stehenden t...          de  \n",
       "4317       NaN  WhatsApp is testing some more feature that wil...          en  \n",
       "829        NaN  TV actress Nia Sharma flaunted her toned body ...         NaN  \n",
       "518        NaN  Wallbridge Wallbridge law firm in Timmins dona...          en  \n",
       "4312       NaN                                                NaN          en  "
      ]
     },
     "execution_count": 7,
     "metadata": {},
     "output_type": "execute_result"
    }
   ],
   "source": [
    "train_df.head()"
   ]
  },
  {
   "cell_type": "code",
   "execution_count": 8,
   "metadata": {},
   "outputs": [
    {
     "data": {
      "text/plain": [
       "(12,\n",
       " {'DUMMY', 'ar', 'de', 'en', 'es', 'fr', 'hu', nan, 'pl', 'pt', 'ru', 'tr'})"
      ]
     },
     "execution_count": 8,
     "metadata": {},
     "output_type": "execute_result"
    }
   ],
   "source": [
    "all_lang = set()\n",
    "train_lang = set(train_df.meta_lang_1.tolist())\n",
    "len(train_lang), train_lang"
   ]
  },
  {
   "cell_type": "code",
   "execution_count": 9,
   "metadata": {},
   "outputs": [
    {
     "data": {
      "text/plain": [
       "(15,\n",
       " {'DUMMY',\n",
       "  'ar',\n",
       "  'de',\n",
       "  'en',\n",
       "  'es',\n",
       "  'fr',\n",
       "  'hi',\n",
       "  'hu',\n",
       "  'ko',\n",
       "  nan,\n",
       "  'nl',\n",
       "  'pl',\n",
       "  'pt',\n",
       "  'ru',\n",
       "  'tr'})"
      ]
     },
     "execution_count": 9,
     "metadata": {},
     "output_type": "execute_result"
    }
   ],
   "source": [
    "train_lang.update(set(train_df.meta_lang_2.tolist()))\n",
    "len(train_lang), train_lang"
   ]
  },
  {
   "cell_type": "code",
   "execution_count": 10,
   "metadata": {},
   "outputs": [
    {
     "data": {
      "text/plain": [
       "(11, {'DUMMY', 'ar', 'de', 'en', 'es', 'fr', nan, 'pl', 'ru', 'tr', 'zh'})"
      ]
     },
     "execution_count": 10,
     "metadata": {},
     "output_type": "execute_result"
    }
   ],
   "source": [
    "dev_lang = set(dev_df.meta_lang_1.tolist())\n",
    "dev_lang.update(set(dev_df.meta_lang_2.tolist()))\n",
    "len(dev_lang), dev_lang"
   ]
  },
  {
   "cell_type": "code",
   "execution_count": 11,
   "metadata": {},
   "outputs": [
    {
     "data": {
      "text/plain": [
       "(16,\n",
       " {'DUMMY',\n",
       "  'ar',\n",
       "  'de',\n",
       "  'el',\n",
       "  'en',\n",
       "  'es',\n",
       "  'fr',\n",
       "  'hu',\n",
       "  'it',\n",
       "  'ja',\n",
       "  nan,\n",
       "  'nl',\n",
       "  'pl',\n",
       "  'ru',\n",
       "  'tr',\n",
       "  'zh'})"
      ]
     },
     "execution_count": 11,
     "metadata": {},
     "output_type": "execute_result"
    }
   ],
   "source": [
    "test_lang = set(test_df.meta_lang_1.tolist())\n",
    "len(test_lang), test_lang"
   ]
  },
  {
   "cell_type": "code",
   "execution_count": 12,
   "metadata": {},
   "outputs": [
    {
     "data": {
      "text/plain": [
       "(19,\n",
       " {'DUMMY',\n",
       "  'ar',\n",
       "  'da',\n",
       "  'de',\n",
       "  'el',\n",
       "  'en',\n",
       "  'es',\n",
       "  'fr',\n",
       "  'hu',\n",
       "  'it',\n",
       "  'ja',\n",
       "  nan,\n",
       "  'nb',\n",
       "  'nl',\n",
       "  'pl',\n",
       "  'ru',\n",
       "  'sr',\n",
       "  'tr',\n",
       "  'zh'})"
      ]
     },
     "execution_count": 12,
     "metadata": {},
     "output_type": "execute_result"
    }
   ],
   "source": [
    "test_lang.update(set(test_df.meta_lang_2.tolist()))\n",
    "len(test_lang), test_lang"
   ]
  },
  {
   "cell_type": "code",
   "execution_count": 21,
   "metadata": {},
   "outputs": [
    {
     "name": "stderr",
     "output_type": "stream",
     "text": [
      "2022-02-02 16:15:14.932 INFO in 'deeppavlov.core.data.utils'['utils'] at line 95: Downloading from http://files.deeppavlov.ai/v1/ner/ner_ontonotes_bert_mult_torch.tar.gz to /home2/sagarsj42/.deeppavlov/ner_ontonotes_bert_mult_torch.tar.gz\n",
      "100%|██████████| 1.38G/1.38G [01:42<00:00, 13.5MB/s] \n",
      "2022-02-02 16:16:58.652 INFO in 'deeppavlov.core.data.utils'['utils'] at line 272: Extracting /home2/sagarsj42/.deeppavlov/ner_ontonotes_bert_mult_torch.tar.gz archive into /home2/sagarsj42/.deeppavlov/models\n"
     ]
    },
    {
     "ename": "OSError",
     "evalue": "[Errno 122] Disk quota exceeded",
     "output_type": "error",
     "traceback": [
      "\u001b[0;31m---------------------------------------------------------------------------\u001b[0m",
      "\u001b[0;31mOSError\u001b[0m                                   Traceback (most recent call last)",
      "\u001b[0;32m<ipython-input-21-f69b6b5ea3ff>\u001b[0m in \u001b[0;36m<module>\u001b[0;34m\u001b[0m\n\u001b[0;32m----> 1\u001b[0;31m \u001b[0mner_model\u001b[0m \u001b[0;34m=\u001b[0m \u001b[0mbuild_model\u001b[0m\u001b[0;34m(\u001b[0m\u001b[0mconfigs\u001b[0m\u001b[0;34m.\u001b[0m\u001b[0mner\u001b[0m\u001b[0;34m.\u001b[0m\u001b[0mner_ontonotes_bert_mult_torch\u001b[0m\u001b[0;34m,\u001b[0m \u001b[0mdownload\u001b[0m\u001b[0;34m=\u001b[0m\u001b[0;32mTrue\u001b[0m\u001b[0;34m)\u001b[0m\u001b[0;34m\u001b[0m\u001b[0;34m\u001b[0m\u001b[0m\n\u001b[0m\u001b[1;32m      2\u001b[0m \u001b[0mner_model\u001b[0m\u001b[0;34m\u001b[0m\u001b[0;34m\u001b[0m\u001b[0m\n",
      "\u001b[0;32m~/miniconda3/envs/bilm/lib/python3.6/site-packages/deeppavlov/core/commands/infer.py\u001b[0m in \u001b[0;36mbuild_model\u001b[0;34m(config, mode, load_trained, download, serialized)\u001b[0m\n\u001b[1;32m     39\u001b[0m \u001b[0;34m\u001b[0m\u001b[0m\n\u001b[1;32m     40\u001b[0m     \u001b[0;32mif\u001b[0m \u001b[0mdownload\u001b[0m\u001b[0;34m:\u001b[0m\u001b[0;34m\u001b[0m\u001b[0;34m\u001b[0m\u001b[0m\n\u001b[0;32m---> 41\u001b[0;31m         \u001b[0mdeep_download\u001b[0m\u001b[0;34m(\u001b[0m\u001b[0mconfig\u001b[0m\u001b[0;34m)\u001b[0m\u001b[0;34m\u001b[0m\u001b[0;34m\u001b[0m\u001b[0m\n\u001b[0m\u001b[1;32m     42\u001b[0m \u001b[0;34m\u001b[0m\u001b[0m\n\u001b[1;32m     43\u001b[0m     \u001b[0mimport_packages\u001b[0m\u001b[0;34m(\u001b[0m\u001b[0mconfig\u001b[0m\u001b[0;34m.\u001b[0m\u001b[0mget\u001b[0m\u001b[0;34m(\u001b[0m\u001b[0;34m'metadata'\u001b[0m\u001b[0;34m,\u001b[0m \u001b[0;34m{\u001b[0m\u001b[0;34m}\u001b[0m\u001b[0;34m)\u001b[0m\u001b[0;34m.\u001b[0m\u001b[0mget\u001b[0m\u001b[0;34m(\u001b[0m\u001b[0;34m'imports'\u001b[0m\u001b[0;34m,\u001b[0m \u001b[0;34m[\u001b[0m\u001b[0;34m]\u001b[0m\u001b[0;34m)\u001b[0m\u001b[0;34m)\u001b[0m\u001b[0;34m\u001b[0m\u001b[0;34m\u001b[0m\u001b[0m\n",
      "\u001b[0;32m~/miniconda3/envs/bilm/lib/python3.6/site-packages/deeppavlov/download.py\u001b[0m in \u001b[0;36mdeep_download\u001b[0;34m(config)\u001b[0m\n\u001b[1;32m    172\u001b[0m         \u001b[0;32mif\u001b[0m \u001b[0;32mnot\u001b[0m \u001b[0murl\u001b[0m\u001b[0;34m.\u001b[0m\u001b[0mstartswith\u001b[0m\u001b[0;34m(\u001b[0m\u001b[0;34m's3://'\u001b[0m\u001b[0;34m)\u001b[0m \u001b[0;32mand\u001b[0m \u001b[0;32mnot\u001b[0m \u001b[0misinstance\u001b[0m\u001b[0;34m(\u001b[0m\u001b[0mconfig\u001b[0m\u001b[0;34m,\u001b[0m \u001b[0mdict\u001b[0m\u001b[0;34m)\u001b[0m\u001b[0;34m:\u001b[0m\u001b[0;34m\u001b[0m\u001b[0;34m\u001b[0m\u001b[0m\n\u001b[1;32m    173\u001b[0m             \u001b[0murl\u001b[0m \u001b[0;34m=\u001b[0m \u001b[0mset_query_parameter\u001b[0m\u001b[0;34m(\u001b[0m\u001b[0murl\u001b[0m\u001b[0;34m,\u001b[0m \u001b[0;34m'config'\u001b[0m\u001b[0;34m,\u001b[0m \u001b[0mPath\u001b[0m\u001b[0;34m(\u001b[0m\u001b[0mconfig\u001b[0m\u001b[0;34m)\u001b[0m\u001b[0;34m.\u001b[0m\u001b[0mstem\u001b[0m\u001b[0;34m)\u001b[0m\u001b[0;34m\u001b[0m\u001b[0;34m\u001b[0m\u001b[0m\n\u001b[0;32m--> 174\u001b[0;31m         \u001b[0mdownload_resource\u001b[0m\u001b[0;34m(\u001b[0m\u001b[0murl\u001b[