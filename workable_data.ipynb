{
 "cells": [
  {
   "cell_type": "code",
   "execution_count": 1,
   "metadata": {},
   "outputs": [],
   "source": [
    "import os\n",
    "os.chdir('/scratch/sagarsj42')"
   ]
  },
  {
   "cell_type": "code",
   "execution_count": 2,
   "metadata": {},
   "outputs": [],
   "source": [
    "import json\n",
    "\n",
    "import numpy as np\n",
    "import pandas as pd\n",
    "import seaborn as sns\n",
    "from matplotlib import pyplot as plt"
   ]
  },
  {
   "cell_type": "code",
   "execution_count": 3,
   "metadata": {},
   "outputs": [
    {
     "name": "stdout",
     "output_type": "stream",
     "text": [
      "semeval-2022_task8_train-data_batch.csv       100% 2674KB   2.6MB/s   00:01    \n",
      "semeval_8_2022_data.zip                       100%  304MB 101.2MB/s   00:03    \n",
      "semeval-2022_task8_eval_data_202201.csv       100% 2344KB   2.3MB/s   00:00    \n",
      "semeval-2022_task8_eval_data.zip              100%  271MB  90.3MB/s   00:03    \n"
     ]
    }
   ],
   "source": [
    "!scp sagarsj42@ada:/share1/sagarsj42/semeval-2022_task8_train-data_batch.csv .\n",
    "!scp sagarsj42@ada:/share1/sagarsj42/semeval_8_2022_data.zip .\n",
    "!unzip -oq semeval_8_2022_data.zip\n",
    "!scp sagarsj42@ada:/share1/sagarsj42/semeval-2022_task8_eval_data_202201.csv .\n",
    "!scp sagarsj42@ada:/share1/sagarsj42/semeval-2022_task8_eval_data.zip .\n",
    "!unzip -oq semeval-2022_task8_eval_data.zip"
   ]
  },
  {
   "cell_type": "code",
   "execution_count": 4,
   "metadata": {},
   "outputs": [],
   "source": [
    "TRAIN_PATH = 'downloaded-data'"
   ]
  },
  {
   "cell_type": "code",
   "execution_count": 5,
   "metadata": {},
   "outputs": [
    {
     "name": "stdout",
     "output_type": "stream",
     "text": [
      "<class 'pandas.core.frame.DataFrame'>\n",
      "RangeIndex: 4964 entries, 0 to 4963\n",
      "Data columns (total 14 columns):\n",
      " #   Column     Non-Null Count  Dtype  \n",
      "---  ------     --------------  -----  \n",
      " 0   url1_lang  4964 non-null   object \n",
      " 1   url2_lang  4964 non-null   object \n",
      " 2   pair_id    4964 non-null   object \n",
      " 3   link1      4964 non-null   object \n",
      " 4   link2      4964 non-null   object \n",
      " 5   ia_link1   4964 non-null   object \n",
      " 6   ia_link2   4964 non-null   object \n",
      " 7   Geography  4964 non-null   float64\n",
      " 8   Entities   4964 non-null   float64\n",
      " 9   Time       4964 non-null   float64\n",
      " 10  Narrative  4964 non-null   float64\n",
      " 11  Overall    4964 non-null   float64\n",
      " 12  Style      4964 non-null   float64\n",
      " 13  Tone       4964 non-null   float64\n",
      "dtypes: float64(7), object(7)\n",
      "memory usage: 543.1+ KB\n"
     ]
    }
   ],
   "source": [
    "train_data = pd.read_csv('semeval-2022_task8_train-data_batch.csv')\n",
    "train_data.info()"
   ]
  },
  {
   "cell_type": "code",
   "execution_count": 6,
   "metadata": {},
   "outputs": [
    {
     "data": {
      "text/html": [
       "<div>\n",
       "<style scoped>\n",
       "    .dataframe tbody tr th:only-of-type {\n",
       "        vertical-align: middle;\n",
       "    }\n",
       "\n",
       "    .dataframe tbody tr th {\n",
       "        vertical-align: top;\n",
       "    }\n",
       "\n",
       "    .dataframe thead th {\n",
       "        text-align: right;\n",
       "    }\n",
       "</style>\n",
       "<table border=\"1\" class=\"dataframe\">\n",
       "  <thead>\n",
       "    <tr style=\"text-align: right;\">\n",
       "      <th></th>\n",
       "      <th>url1_lang</th>\n",
       "      <th>url2_lang</th>\n",
       "      <th>pair_id</th>\n",
       "      <th>link1</th>\n",
       "      <th>link2</th>\n",
       "      <th>ia_link1</th>\n",
       "      <th>ia_link2</th>\n",
       "      <th>Geography</th>\n",
       "      <th>Entities</th>\n",
       "      <th>Time</th>\n",
       "      <th>Narrative</th>\n",
       "      <th>Overall</th>\n",
       "      <th>Style</th>\n",
       "      <th>Tone</th>\n",
       "    </tr>\n",
       "  </thead>\n",
       "  <tbody>\n",
       "    <tr>\n",
       "      <th>0</th>\n",
       "      <td>en</td>\n",
       "      <td>en</td>\n",
       "      <td>1484084337_1484110209</td>\n",
       "      <td>https://www.washingtonpost.com/local/virginia-...</td>\n",
       "      <td>https://www.washingtonpost.com/world/the_ameri...</td>\n",
       "      <td>https://web.archive.org/web/www.washingtonpost...</td>\n",
       "      <td>https://web.archive.org/web/www.washingtonpost...</td>\n",
       "      <td>4.0</td>\n",
       "      <td>4.000000</td>\n",
       "      <td>1.000000</td>\n",
       "      <td>4.000000</td>\n",
       "      <td>4.000000</td>\n",
       "      <td>1.666667</td>\n",
       "      <td>2.000000</td>\n",
       "    </tr>\n",
       "    <tr>\n",
       "      <th>1</th>\n",
       "      <td>en</td>\n",
       "      <td>en</td>\n",
       "      <td>1484396422_1483924666</td>\n",
       "      <td>https://www.stlucianewsonline.com/guyana-three...</td>\n",
       "      <td>https://www.thestar.com/news/world/europe/2020...</td>\n",
       "      <td>https://web.archive.org/web/www.stlucianewsonl...</td>\n",
       "      <td>https://web.archive.org/web/www.thestar.com/ne...</td>\n",
       "      <td>4.0</td>\n",
       "      <td>4.000000</td>\n",
       "      <td>1.000000</td>\n",
       "      <td>4.000000</td>\n",
       "      <td>3.666667</td>\n",
       "      <td>1.666667</td>\n",
       "      <td>1.333333</td>\n",
       "    </tr>\n",
       "    <tr>\n",
       "      <th>2</th>\n",
       "      <td>en</td>\n",
       "      <td>en</td>\n",
       "      <td>1484698254_1483758694</td>\n",
       "      <td>https://www.teaparty.org/trump-brings-in-2020-...</td>\n",
       "      <td>https://www.timesofisrael.com/trump-says-he-do...</td>\n",
       "      <td>https://web.archive.org/web/www.teaparty.org/t...</td>\n",
       "      <td>https://web.archive.org/web/www.timesofisrael....</td>\n",
       "      <td>1.0</td>\n",
       "      <td>2.000000</td>\n",
       "      <td>1.000000</td>\n",
       "      <td>2.333333</td>\n",
       "      <td>2.333333</td>\n",
       "      <td>1.000000</td>\n",
       "      <td>1.333333</td>\n",
       "    </tr>\n",
       "    <tr>\n",
       "      <th>3</th>\n",
       "      <td>en</td>\n",
       "      <td>en</td>\n",
       "      <td>1576314516_1576455088</td>\n",
       "      <td>https://gadgets.ndtv.com/apps/news/zomato-uber...</td>\n",
       "      <td>https://gadgets.ndtv.com/internet/news/indian-...</td>\n",
       "      <td>https://web.archive.org/web/gadgets.ndtv.com/a...</td>\n",
       "      <td>https://web.archive.org/web/gadgets.ndtv.com/i...</td>\n",
       "      <td>1.0</td>\n",
       "      <td>2.333333</td>\n",
       "      <td>2.666667</td>\n",
       "      <td>1.666667</td>\n",
       "      <td>2.000000</td>\n",
       "      <td>1.666667</td>\n",
       "      <td>1.666667</td>\n",
       "    </tr>\n",
       "    <tr>\n",
       "      <th>4</th>\n",
       "      <td>en</td>\n",
       "      <td>en</td>\n",
       "      <td>1484036253_1483894099</td>\n",
       "      <td>https://news.yahoo.com/india-approves-third-mo...</td>\n",
       "      <td>https://www.channelnewsasia.com/news/asia/indi...</td>\n",
       "      <td>https://web.archive.org/web/news.yahoo.com/ind...</td>\n",
       "      <td>https://web.archive.org/web/www.channelnewsasi...</td>\n",
       "      <td>1.0</td>\n",
       "      <td>1.250000</td>\n",
       "      <td>1.000000</td>\n",
       "      <td>1.250000</td>\n",
       "      <td>1.250000</td>\n",
       "      <td>1.000000</td>\n",
       "      <td>1.000000</td>\n",
       "    </tr>\n",
       "  </tbody>\n",
       "</table>\n",
       "</div>"
      ],
      "text/plain": [
       "  url1_lang url2_lang                pair_id  \\\n",
       "0        en        en  1484084337_1484110209   \n",
       "1        en        en  1484396422_1483924666   \n",
       "2        en        en  1484698254_1483758694   \n",
       "3        en        en  1576314516_1576455088   \n",
       "4        en        en  1484036253_1483894099   \n",
       "\n",
       "                                               link1  \\\n",
       "0  https://www.washingtonpost.com/local/virginia-...   \n",
       "1  https://www.stlucianewsonline.com/guyana-three...   \n",
       "2  https://www.teaparty.org/trump-brings-in-2020-...   \n",
       "3  https://gadgets.ndtv.com/apps/news/zomato-uber...   \n",
       "4  https://news.yahoo.com/india-approves-third-mo...   \n",
       "\n",
       "                                               link2  \\\n",
       "0  https://www.washingtonpost.com/world/the_ameri...   \n",
       "1  https://www.thestar.com/news/world/europe/2020...   \n",
       "2  https://www.timesofisrael.com/trump-says-he-do...   \n",
       "3  https://gadgets.ndtv.com/internet/news/indian-...   \n",
       "4  https://www.channelnewsasia.com/news/asia/indi...   \n",
       "\n",
       "                                            ia_link1  \\\n",
       "0  https://web.archive.org/web/www.washingtonpost...   \n",
       "1  https://web.archive.org/web/www.stlucianewsonl...   \n",
       "2  https://web.archive.org/web/www.teaparty.org/t...   \n",
       "3  https://web.archive.org/web/gadgets.ndtv.com/a...   \n",
       "4  https://web.archive.org/web/news.yahoo.com/ind...   \n",
       "\n",
       "                                            ia_link2  Geography  Entities  \\\n",
       "0  https://web.archive.org/web/www.washingtonpost...        4.0  4.000000   \n",
       "1  https://web.archive.org/web/www.thestar.com/ne...        4.0  4.000000   \n",
       "2  https://web.archive.org/web/www.timesofisrael....        1.0  2.000000   \n",
       "3  https://web.archive.org/web/gadgets.ndtv.com/i...        1.0  2.333333   \n",
       "4  https://web.archive.org/web/www.channelnewsasi...        1.0  1.250000   \n",
       "\n",
       "       Time  Narrative   Overall     Style      Tone  \n",
       "0  1.000000   4.000000  4.000000  1.666667  2.000000  \n",
       "1  1.000000   4.000000  3.666667  1.666667  1.333333  \n",
       "2  1.000000   2.333333  2.333333  1.000000  1.333333  \n",
       "3  2.666667   1.666667  2.000000  1.666667  1.666667  \n",
       "4  1.000000   1.250000  1.250000  1.000000  1.000000  "
      ]
     },
     "execution_count": 6,
     "metadata": {},
     "output_type": "execute_result"
    }
   ],
   "source": [
    "train_data.head()"
   ]
  },
  {
   "cell_type": "code",
   "execution_count": 7,
   "metadata": {},
   "outputs": [
    {
     "name": "stdout",
     "output_type": "stream",
     "text": [
      "(4964,)\n"
     ]
    },
    {
     "data": {
      "text/plain": [
       "(1.0, 4.0, 3.0, 2.8033685391965, 1.1337595163008565)"
      ]
     },
     "execution_count": 7,
     "metadata": {},
     "output_type": "execute_result"
    }
   ],
   "source": [
    "overall_scores = train_data.Overall.to_numpy()\n",
    "print(overall_scores.shape)\n",
    "overall_scores.min(), overall_scores.max(), np.median(overall_scores), overall_scores.mean(), overall_scores.std()"
   ]
  },
  {
   "cell_type": "code",
   "execution_count": 8,
   "metadata": {},
   "outputs": [
    {
     "data": {
      "image/png": "[encoded data removed]",
      "text/plain": [
       "<Figure size 648x432 with 1 Axes>"
      ]
     },
     "metadata": {
      "needs_background": "light"
     },
     "output_type": "display_data"
    }
   ],
   "source": [
    "plt.figure(figsize=(9, 6))\n",
    "sns.histplot(overall_scores)\n",
    "plt.title('Histogram of overall scores')\n",
    "plt.show()"
   ]
  },
  {
   "cell_type": "code",
   "execution_count": 9,
   "metadata": {},
   "outputs": [
    {
     "data": {
      "text/plain": [
       "(dict_keys(['source_url', 'url', 'title', 'top_image', 'meta_img', 'images', 'movies', 'text', 'keywords', 'meta_keywords', 'tags', 'authors', 'publish_date', 'summary', 'article_html', 'meta_description', 'meta_lang', 'meta_favicon', 'meta_data', 'canonical_link']),\n",
       " {'source_url': 'https://wiadomosci.wp.pl',\n",
       "  'url': 'https://wiadomosci.wp.pl/lidia-staron-ma-stanac-na-czele-nowej-komisji-w-senacie-6470680555329665a',\n",
       "  'title': 'Lidia Staroń ma stanąć na czele nowej komisji w Senacie',\n",
       "  'top_image': 'https://v.wpimg.pl/MjYzNzcwYgs4GDhJTAxvHntAbBMKVWFILFh0WExHYlhpSn4CUkR1WXYeYA0THiANdwoiVVpHfl5hTX1PTlp4Wm9Jd0NTRXVFNRMqEwJaPh44CCEUTR09DXsH',\n",
       "  'meta_img': 'https://v.wpimg.pl/MjYzNzcwYgs4GDhJTAxvHntAbBMKVWFILFh0WExHYlhpSn4CUkR1WXYeYA0THiANdwoiVVpHfl5hTX1PTlp4Wm9Jd0NTRXVFNRMqEwJaPh44CCEUTR09DXsH',\n",
       "  'images': ['https://v.wpimg.pl/MjYzNzcwYgs4GDhJTAxvHntAbBMKVWFILFh0WEw4Yl5sAnpPTBNjHSkTIx1NByFFa0p9Q1RPe1hgTGNLU0F4X21PfU1VWHxTawJ_Q1FZPQQ-WDM=',\n",
       "   'https://v.wpimg.pl/MjYzNzcwYgs4GDhJTAxvHntAbBMKVWFILFh0WEw4Yl9vAnpPTB5jHSlUPhZMFmIDdgk6HUwHJgx2GClUExkqSCQ=',\n",
       "   'https://v.wpimg.pl/MjYzNzcwYgs4GDhJTAxvHntAbBMKVWFILFh0WEw4Yl9pAntKTBNjHSkTIx1NByFFbE54TlFEe1ptV2NCU0R5UmpCek1MRnRYIUt3SE0HIw17Bw==',\n",
       "   'https://v.wpimg.pl/MjYzNzcwYgs4GDhJTAxvHntAbBMKVWFILFh0WExHYlhpSn4CUkR1WXYeYA0THiANdwoiVVpHfl5hTX1PTlp4Wm9Jd0NTRXVFNRMqEwJaPh44CCEUTR09DXsH',\n",
       "   'https://v.wpimg.pl/MjYzNzcwYgs4GDhJTAxvHntAbBMKVWFILFh0WEw4Yl9pAntKTBNjHSkTIx1NByFFYEt9T1pCfF5gV2NLW05_W29Ke0hSWHxTawJ_Q1FZPQQ-WDM=',\n",
       "   'https://v.wpimg.pl/MjYzNzcwYgs4GDhJTAxvHntAbBMKVWFILFh0WEw4Yl9pAntKTBNjHSkTIx1NByFFbEl9SFdPfFhgV2NIU0Z_Xm5JfUtSWHxTawJ_Q1FZPQQ-WDM=',\n",
       "   'https://v.wpimg.pl/MjYzNzcwYgs4GDhJTAxvHntAbBMKVWFILFh0WEw4YlxtTjZOV0JiDncNPhMOEGMaNVV3SlBDdV1qT2NXVkd7WWBDfkhbWCEDPRMvVxADLBg2FGAQExBvFw==',\n",
       "   'https://v.wpimg.pl/MjYzNzcwYgs4GDhJTAxvHntAbBMKVWFILFh0WEw4Yl9pAntKTBNjHSkTIx1NByFFb0N9S1dEfVtrV3xNWkB6U2tCf1VSTn8SaEN8VBMZKkgk',\n",
       "   'https://v.wpimg.pl/MjYzNzcwYgs4GDhJTAxvHntAbBMKVWFILFh0WEw4Yl5sAnpPTBNjHSkTIx1NByFFbE54TlFEe1ptV2NCU0R5UmpCek1MRnRYIUt3SE0HIw17Bw==',\n",
       "   'https://v.wpimg.pl/MjYzNzcwYgs4GDhJTAxvHntAbBMKVWFILFh0WEw4Yl5sAnpPTBNjHSkTIx1NByFFYEt9T1pCfF5gV2NLW05_W29Ke0hSWHxTawJ_Q1FZPQQ-WDM=',\n",
       "   'https://v.wpimg.pl/MjYzNzcwYgs4GDhJTAxvHntAbBMKVWFILFh0WEw4Yl5sAnpPTBNjHSkTIx1NByFFbkx5TVBPeF1gV2NIUkZ-XG1Mdk5bWHxTawJ_Q1FZPQQ-WDM=',\n",
       "   'https://v.wpimg.pl/MjYzNzcwYgs4GDhJTAxvHntAbBMKVWFILFh0WEw4Yl5sAnpPTBNjHSkTIx1NByFFaEl-S1RBfl9vQ2NXUkV7W2FPeE1XQGIaNRstHwsYIQ48CGAKDRBvFw==',\n",
       "   'https://v.wpimg.pl/MjYzNzcwYgs4GDhJTAxvHntAbBMKVWFILFh0WEw4Yl5sAnpPTBNjHSkTIx1NByFFbEl9SFdPfFhgV2NIU0Z_Xm5JfUtSWHxTawJ_Q1FZPQQ-WDM=',\n",
       "   'https://v.wpimg.pl/MjYzNzcwYgs4GDhJTAxvHntAbBMKVWFILFh0WEw4Yl5sAnpPTBNjHSkTIx1NByFFa0N9QltDdF9rV31NU0J4WmhDYUtaRTVbYEhgCg0Qbxc=',\n",
       "   'https://v.wpimg.pl/MjYzNzcwYgs4GDhJTAxvHntAbBMKVWFILFh0WEw4Yl9pAntKTBNjHSkTIx1NByFFa0p9Q1RPe1hgTGNLU0F4X21PfU1VWHxTawJ_Q1FZPQQ-WDM=',\n",
       "   'https://v.wpimg.pl/MjYzNzcwYgs4GDhJTAxvHntAbBMKVWFILFh0WEw4Yl9pAntKTBNjHSkTIx1NByFFa0N9QltDdF9rV31NU0J4WmhDYUtaRTVbYEhgCg0Qbxc=',\n",
       "   'https://v.wpimg.pl/MjYzNzcwYgs4GDhJTAxvHntAbBMKVWFILFh0WEw4Yl5sAnpPTBNjHSkTIx1NByFFaE59T1pEdFNtTmNXUkd1U2FJfkxbR2JbYEg2S1pFYxo3HWwH',\n",
       "   'https://v.wpimg.pl/MjYzNzcwYgs4GDhJTAxvHntAbBMKVWFILFh0WEw4Yl9pAntKTBNjHSkTIx1NByFFaE59T1pEdFNtTmNXUkd1U2FJfkxbR2JbYEg2S1pFYxo3HWwH',\n",
       "   'https://v.wpimg.pl/MjYzNzcwYgs4GDhJTAxvHntAbBMKVWFILFh0WEw4Yl9pAntKTBNjHSkTIx1NByFFaEN_TlZAel1gSGNXUEB7W2pCdkpTWHxTawJ_Q1FZPQQ-WDM=',\n",
       "   'https://v.wpimg.pl/MjYzNzcwYgs4GDhJTAxvHntAbBMKVWFILFh0WEw4Yl9pAntKTBNjHSkTIx1NByFFaEl-S1RBfl9vQ2NXUkV7W2FPeE1XQGIaNRstHwsYIQ48CGAKDRBvFw==',\n",
       "   'https://wiadomosci.wp.pl/MjYzNzcwYgs4GDhJTAxvHntAbB4MVWFILFh0WEwFdV1gTn9PV0V7WXYJJhUUWSoDP0U9CBVKOgM4HiEXDAQuA38bLQ4KGCNXMwkhHAVRPQZkCi8RDFE7V2xUelge',\n",
       "   'https://v.wpimg.pl/MjYzNzcwYgs4GDhJTAxvHntAbBMKVWFILFh0WEw4Yl5sAnpPTBNjHSkTIx1NByFFaEN_TlZAel1gSGNXUEB7W2pCdkpTWHxTawJ_Q1FZPQQ-WDM=',\n",
       "   'https://v.wpimg.pl/MjYzNzcwYgs4GDhJTAxvHntAbBMKVWFILFh0WEw4Yl5sAnpPTBNjHSkTIx1NByFFb0N9S1dEfVtrV3xNWkB6U2tCf1VSTn8SaEN8VBMZKkgk',\n",
       "   'https://v.wpimg.pl/MjYzNzcwYgs4GDhJTAxvHntAbBMKVWFILFh0WEw4Yl9pAntKTBNjHSkTIx1NByFFbkx5TVBPeF1gV2NIUkZ-XG1Mdk5bWHxTawJ_Q1FZPQQ-WDM='],\n",
       "  'movies': [],\n",
       "  'text': 'Lidia Staroń ma stanąć na czele nowej komisji w Senacie\\n\\nW Senacie ma powstać komisja petycji. Jej przewodniczącą ma zostać Lidia Staroń, szefowa Koła Senatorów Niezależnych. Ta kandydatura budzi wiele kontrowersji wśród opozycji.\\n\\nGłosuj Głosuj Podziel się Opinie\\n\\nSenator Lidia Staroń (East News, Fot: PIOTR MOLECKI)\\n\\nKomisja Petycji ma powstać po podziale istniejącej Komisji Praw Człowieka, Praworządności i Petycji. Taki wniosek złożył senator Krzysztof Kwiatkowski z Koła Senatorów Niezależnych - podaje \"Rzeczpospolita\".\\n\\nZdaniem senatora obecna Komisji Praw Człowieka, Praworządności i Petycji jest zbyt przeciążona i trzeba ją podzielić.\\n\\nJak nieoficjalnie dowiedziała się gazeta, nową komisją ma pokierować Lidia Staroń, co budzi kontrowersje wśród opozycji rządzącej Senatem. Chodzi o to, że senator Staroń uchodzi za polityka sympatyzującego z PiS.\\n\\nLidia Staroń w 2005 r. wstąpiła do Platformy Obywatelskiej i w wyborach uzyskała mandat poselski. W 2015 r. wystąpiła z partii i pozostała politykiem bezpartyjnym. W Sejmie angażowała się w przygotowywanie rozwiązań prawnych dotyczących spółdzielni mieszkaniowych, a zwłaszcza przepisów dotyczących uwłaszczania spółdzielców. Pełniła m.in. funkcję wiceprzewodniczącej sejmowej Komisji Nadzwyczajnej do rozpatrzenia projektów ustaw z zakresu prawa spółdzielczego.\\n\\nW wyborach parlamentarnych w 2015 r. uzyskała mandat senatora startując z własnego komitetu \"Lidia Staroń - Zawsze po stronie ludzi”. Ponownie została senatorem w wyborach w 2019 r. i została przewodniczącą Koła Senatorów niezależnych.\\n\\nŹródło: \"Rzeczpospolita\", WP.PL',\n",
       "  'keywords': [],\n",
       "  'meta_keywords': ['lidia staroń', 'senat', 'komisja petycji'],\n",
       "  'tags': ['Klaudia Jachira',\n",
       "   'Olga Tokarczuk',\n",
       "   'Wiosna Roberta Biedronia',\n",
       "   'Wyniki Lotto',\n",
       "   'Wypadki samochodowe',\n",
       "   'USA',\n",
       "   'senat',\n",
       "   'Hiszpania',\n",
       "   'Rosja',\n",
       "   'Chiny',\n",
       "   'Wiadomości o smogu',\n",
       "   'komisja petycji',\n",
       "   'Wojciech Cejrowski',\n",
       "   'Turcja',\n",
       "   'Szymon Hołownia',\n",
       "   'Niemcy',\n",
       "   'Włodzimierz Lenin',\n",
       "   'PRL',\n",
       "   'Józef Piłsudski',\n",
       "   'lidia staroń',\n",
       "   'Promocje',\n",
       "   'Francja',\n",
       "   'Adolf Hitler',\n",
       "   'Gazetki Rossman'],\n",
       "  'authors': ['Oprac. Beata Czuma'],\n",
       "  'publish_date': 'Thu Jan 23 05:29:00 2020',\n",
       "  'summary': '',\n",
       "  'article_html': '',\n",
       "  'meta_description': 'W Senacie ma powstać komisja petycji. Jej przewodniczącą ma zostać Lidia Staroń, szefowa Koła Senatorów Niezależnych. Ta kandydatura budzi wiele kontrowersji wśród opozycji.',\n",
       "  'meta_lang': 'pl',\n",
       "  'meta_favicon': 'https://wiadomosci.wp.pl/MjYzNzcwYgs4GDhJTAxvNXtAbCU8KBI1BiURJTwoEjUGJRElPCgSNQYlESU8KBI1BiURJTwoEjUGJRElPCgSNQYlESU8KBI1BiURJTwoEjUGJRElPCgSNQYlESU8KBI1BiURJTwoEjUGJRElPCgSNQYlESU8KBI1BiURJTwoEjUGJRElPCgSNQYlESU8KBI1BiURJTwoEjUGJRElPCgSNQYlESU8KBI1BiURJTwoEjUGJRElPCgSNQYlESU8KBI1BiURJTwoEjUGJRElPCgSNQYlESU8KBI1BiURJTwoEjUGJRElPCgSNQYlESU8KBI1BiURJTwoEjUGJRElPCgSNQYlESU8KBI1BiURJTwoEjUGJRElPCgSNQYlESU8KBI1BiURJTwoEkh1WDtYWVViGS0bOhMAWH5EblR8TlFYfVtpQ38bW0F7CWtMKEtUQy5bbU58Q1tEKVtrSC0cBkdjAzoVbAc=',\n",
       "  'meta_data': {'gaf': 'pfequnkl',\n",
       "   'og': {'site_name': 'wiadomosci.wp.pl',\n",
       "    'locale': 'pl_PL',\n",
       "    'url': 'https://wiadomosci.wp.pl/lidia-staron-ma-stanac-na-czele-nowej-komisji-w-senacie-6470680555329665a',\n",
       "    'type': 'article',\n",
       "    'title': 'Lidia Staroń ma stanąć na czele nowej komisji w Senacie',\n",
       "    'description': 'W Senacie ma powstać komisja petycji. Jej przewodniczącą ma zostać Lidia Staroń, szefowa Koła Senatorów Niezależnych. Ta kandydatura budzi wiele kontrowersji wśród opozycji.',\n",
       "    'image': 'https://v.wpimg.pl/MjYzNzcwYgs4GDhJTAxvHntAbBMKVWFILFh0WExHYlhpSn4CUkR1WXYeYA0THiANdwoiVVpHfl5hTX1PTlp4Wm9Jd0NTRXVFNRMqEwJaPh44CCEUTR09DXsH'},\n",
       "   'fb': {'app_id': 196956980412461, 'pages': 881296251984605},\n",
       "   'twitter': {'site': '@wirtualnapolska',\n",
       "    'domain': 'wiadomosci.wp.pl',\n",
       "    'card': 'summary_large_image',\n",
       "    'url': 'https://wiadomosci.wp.pl/lidia-staron-ma-stanac-na-czele-nowej-komisji-w-senacie-6470680555329665a',\n",
       "    'description': 'W Senacie ma powstać komisja petycji. Jej przewodniczącą ma zostać Lidia Staroń, szefowa Koła Senatorów Niezależnych. Ta kandydatura budzi wiele kontrowersji wśród opozycji.',\n",
       "    'image': 'https://v.wpimg.pl/MjYzNzcwYgs4GDhJTAxvHntAbBMKVWFILFh0WExHYlhpSn4CUkR1WXYeYA0THiANdwoiVVpHfl5hTX1PTlp4Wm9Jd0NTRXVFNRMqEwJaPh44CCEUTR09DXsH'},\n",
       "   'google-site-verification': 'RCgsopChr4I-gwsar6utLms3HxO6lrgw6GO3SfzHsQg',\n",
       "   'keywords': 'lidia staroń, senat, komisja petycji',\n",
       "   'article': {'publisher': 'https://www.facebook.com/wiadomosciwppl',\n",
       "    'published_time': '2020-01-23T05:29:00.000Z',\n",
       "    'modified_time': '2020-01-23T05:34:35.000Z'},\n",
       "   'artice': {'tag': 'lidia staroń, senat, komisja petycji'},\n",
       "   'news_keywords': 'lidia staroń, senat, komisja petycji',\n",
       "   'author': 'oprac. Beata Czuma',\n",
       "   'description': 'W Senacie ma powstać komisja petycji. Jej przewodniczącą ma zostać Lidia Staroń, szefowa Koła Senatorów Niezależnych. Ta kandydatura budzi wiele kontrowersji wśród opozycji.',\n",
       "   'msapplication-TileImage': 'https://v.wpimg.pl/MjYzNzcwYgs4GDhJTAxvHntAbBMKVWFILFh0WEw4YlttTjZLV0NiDncNPhMOEGMaNVV_S1FBflltTHlNTk55UmtKeE1WT2IMOAwnGQwZEh4rGyAJExY_DzcOEUtaRTVbYEhgCg0Qbxc=',\n",
       "   'theme-color': '#e1261c'},\n",
       "  'canonical_link': 'https://wiadomosci.wp.pl/lidia-staron-ma-stanac-na-czele-nowej-komisji-w-senacie-6470680555329665a'})"
      ]
     },
     "execution_count": 9,
     "metadata": {},
     "output_type": "execute_result"
    }
   ],
   "source": [
    "file = '1502416604.json'\n",
    "subfolder = file[-7:-5]\n",
    "with open(os.path.join(TRAIN_PATH, subfolder, file), 'r') as f:\n",
    "    sample = json.load(f)\n",
    "\n",
    "sample.keys(), sample"
   ]
  },
  {
   "cell_type": "code",
   "execution_count": 10,
   "metadata": {},
   "outputs": [
    {
     "data": {
      "text/plain": [
       "'Lidia Staroń ma stanąć na czele nowej komisji w Senacie\\n\\nW Senacie ma powstać komisja petycji. Jej przewodniczącą ma zostać Lidia Staroń, szefowa Koła Senatorów Niezależnych. Ta kandydatura budzi wiele kontrowersji wśród opozycji.\\n\\nGłosuj Głosuj Podziel się Opinie\\n\\nSenator Lidia Staroń (East News, Fot: PIOTR MOLECKI)\\n\\nKomisja Petycji ma powstać po podziale istniejącej Komisji Praw Człowieka, Praworządności i Petycji. Taki wniosek złożył senator Krzysztof Kwiatkowski z Koła Senatorów Niezależnych - podaje \"Rzeczpospolita\".\\n\\nZdaniem senatora obecna Komisji Praw Człowieka, Praworządności i Petycji jest zbyt przeciążona i trzeba ją podzielić.\\n\\nJak nieoficjalnie dowiedziała się gazeta, nową komisją ma pokierować Lidia Staroń, co budzi kontrowersje wśród opozycji rządzącej Senatem. Chodzi o to, że senator Staroń uchodzi za polityka sympatyzującego z PiS.\\n\\nLidia Staroń w 2005 r. wstąpiła do Platformy Obywatelskiej i w wyborach uzyskała mandat poselski. W 2015 r. wystąpiła z partii i pozostała politykiem bezpartyjnym. W Sejmie angażowała się w przygotowywanie rozwiązań prawnych dotyczących spółdzielni mieszkaniowych, a zwłaszcza przepisów dotyczących uwłaszczania spółdzielców. Pełniła m.in. funkcję wiceprzewodniczącej sejmowej Komisji Nadzwyczajnej do rozpatrzenia projektów ustaw z zakresu prawa spółdzielczego.\\n\\nW wyborach parlamentarnych w 2015 r. uzyskała mandat senatora startując z własnego komitetu \"Lidia Staroń - Zawsze po stronie ludzi”. Ponownie została senatorem w wyborach w 2019 r. i została przewodniczącą Koła Senatorów niezależnych.\\n\\nŹródło: \"Rzeczpospolita\", WP.PL'"
      ]
     },
     "execution_count": 10,
     "metadata": {},
     "output_type": "execute_result"
    }
   ],
   "source": [
    "sample['text']"
   ]
  },
  {
   "cell_type": "code",
   "execution_count": 11,
   "metadata": {},
   "outputs": [],
   "source": [
    "def get_sample_from_file_id(id, data_path):\n",
    "    subfolder = id[-2:]\n",
    "    with open(os.path.join(data_path, subfolder, id+'.json'), 'r') as f:\n",
    "        sample = json.load(f)\n",
    "\n",
    "    return sample\n",
    "\n",
    "def get_text_from_file_id(id, data_path):\n",
    "    subfolder = id[-2:]\n",
    "    with open(os.path.join(data_path, subfolder, id+'.json'), 'r') as f:\n",
    "        text = json.load(f)['text']\n",
    "\n",
    "    return text"
   ]
  },
  {
   "cell_type": "code",
   "execution_count": 12,
   "metadata": {},
   "outputs": [
    {
     "data": {
      "text/plain": [
       "4964"
      ]
     },
     "execution_count": 12,
     "metadata": {},
     "output_type": "execute_result"
    }
   ],
   "source": [
    "pair_ids = train_data['pair_id'].tolist()\n",
    "len(pair_ids)"
   ]
  },
  {
   "cell_type": "code",
   "execution_count": 13,
   "metadata": {},
   "outputs": [],
   "source": [
    "def find_and_replace_missing_with_dummies(pair_ids, data_path):\n",
    "    dummy_keys = ['source_url', 'url', 'title', 'top_image', 'meta_img', 'images', 'movies', 'text', 'keywords', 'meta_keywords', \n",
    "        'tags', 'authors', 'publish_date', 'summary', 'article_html', 'meta_description', 'meta_lang', 'meta_favicon', 'meta_data', 'canonical_link']\n",
    "    dummy_dict = {k: v for k, v in zip(dummy_keys, ['DUMMY']*len(dummy_keys))}\n",
    "    print(dummy_dict)\n",
    "    missing_paths = list()\n",
    "\n",
    "    for pair_id in pair_ids:\n",
    "        try:\n",
    "            id1, id2 = pair_id.split('_')\n",
    "            _ = get_text_from_file_id(id1, data_path)\n",
    "            _ = get_text_from_file_id(id2, data_path)\n",
    "        except FileNotFoundError as e:\n",
    "            missing_path = str(e).split(':')[-1].strip()[1:-1]\n",
    "            missing_paths.append(missing_path)\n",
    "            print('Found missing:', missing_path)\n",
    "\n",
    "            os.makedirs('/'.join(missing_path.split('/')[:-1]), exist_ok=True)\n",
    "            with open(missing_path, 'w') as f:\n",
    "                json.dump(dummy_dict, f)\n",
    "\n",
    "    return missing_paths"
   ]
  },
  {
   "cell_type": "code",
   "execution_count": 14,
   "metadata": {},
   "outputs": [
    {
     "name": "stdout",
     "output_type": "stream",
     "text": [
      "{'source_url': 'DUMMY', 'url': 'DUMMY', 'title': 'DUMMY', 'top_image': 'DUMMY', 'meta_img': 'DUMMY', 'images': 'DUMMY', 'movies': 'DUMMY', 'text': 'DUMMY', 'keywords': 'DUMMY', 'meta_keywords': 'DUMMY', 'tags': 'DUMMY', 'authors': 'DUMMY', 'publish_date': 'DUMMY', 'summary': 'DUMMY', 'article_html': 'DUMMY', 'meta_description': 'DUMMY', 'meta_lang': 'DUMMY', 'meta_favicon': 'DUMMY', 'meta_data': 'DUMMY', 'canonical_link': 'DUMMY'}\n"
     ]
    },
    {
     "data": {
      "text/plain": [
       "(0, [])"
      ]
     },
     "execution_count": 14,
     "metadata": {},
     "output_type": "execute_result"
    }
   ],
   "source": [
    "missing_paths = find_and_replace_missing_with_dummies(pair_ids, TRAIN_PATH)\n",
    "len(missing_paths), missing_paths"
   ]
  },
  {
   "cell_type": "code",
   "execution_count": 15,
   "metadata": {},
   "outputs": [
    {
     "name": "stdout",
     "output_type": "stream",
     "text": [
      "{'source_url': 'DUMMY', 'url': 'DUMMY', 'title': 'DUMMY', 'top_image': 'DUMMY', 'meta_img': 'DUMMY', 'images': 'DUMMY', 'movies': 'DUMMY', 'text': 'DUMMY', 'keywords': 'DUMMY', 'meta_keywords': 'DUMMY', 'tags': 'DUMMY', 'authors': 'DUMMY', 'publish_date': 'DUMMY', 'summary': 'DUMMY', 'article_html': 'DUMMY', 'meta_description': 'DUMMY', 'meta_lang': 'DUMMY', 'meta_favicon': 'DUMMY', 'meta_data': 'DUMMY', 'canonical_link': 'DUMMY'}\n"
     ]
    },
    {
     "data": {
      "text/plain": [
       "(0, [])"
      ]
     },
     "execution_count": 15,
     "metadata": {},
     "output_type": "execute_result"
    }
   ],
   "source": [
    "missing_paths = find_and_replace_missing_with_dummies(pair_ids, TRAIN_PATH)\n",
    "len(missing_paths), missing_paths"
   ]
  },
  {
   "cell_type": "code",
   "execution_count": 16,
   "metadata": {},
   "outputs": [
    {
     "data": {
      "text/plain": [
       "dict_keys(['source_url', 'url', 'title', 'top_image', 'meta_img', 'images', 'movies', 'text', 'keywords', 'meta_keywords', 'tags', 'authors', 'publish_date', 'summary', 'article_html', 'meta_description', 'meta_lang', 'meta_favicon', 'meta_data', 'canonical_link'])"
      ]
     },
     "execution_count": 16,
     "metadata": {},
     "output_type": "execute_result"
    }
   ],
   "source": [
    "idx = pair_ids[100].split('_')[0]\n",
    "sample = get_sample_from_file_id(idx, TRAIN_PATH)\n",
    "sample.keys()"
   ]
  },
  {
   "cell_type": "code",
   "execution_count": 17,
   "metadata": {},
   "outputs": [
    {
     "data": {
      "text/plain": [
       "8"
      ]
     },
     "execution_count": 17,
     "metadata": {},
     "output_type": "execute_result"
    }
   ],
   "source": [
    "KEYS = ['title', 'text', 'keywords', 'meta_keywords', 'tags', 'summary', 'meta_description', 'meta_lang']\n",
    "len(KEYS)"
   ]
  },
  {
   "cell_type": "code",
   "execution_count": 18,
   "metadata": {},
   "outputs": [],
   "source": [
    "def create_dataframe(pair_ids, scores, data_path, select_keys):\n",
    "    data = list()\n",
    "    for pair_id, score in zip(pair_ids, scores):\n",
    "        ids = pair_id.split('_')\n",
    "        data_row =  [pair_id, score]\n",
    "        for i in range(2):\n",
    "            data_row.append(ids[i])\n",
    "            sample = get_sample_from_file_id(ids[i], data_path)\n",
    "            for key in select_keys:\n",
    "                data_row.append(sample[key])\n",
    "        data.append(data_row)\n",
    "    \n",
    "    data_cols = ['pair_id', 'score']\n",
    "    for i in range(1, 3):\n",
    "        data_cols.append('id_' + str(i))\n",
    "        for key in select_keys:\n",
    "            data_cols.append(key + '_' + str(i))\n",
    "    df = pd.DataFrame(data, columns=data_cols)\n",
    "\n",
    "    return df"
   ]
  },
  {
   "cell_type": "code",
   "execution_count": 19,
   "metadata": {},
   "outputs": [
    {
     "name": "stdout",
     "output_type": "stream",
     "text": [
      "<class 'pandas.core.frame.DataFrame'>\n",
      "RangeIndex: 4964 entries, 0 to 4963\n",
      "Data columns (total 20 columns):\n",
      " #   Column              Non-Null Count  Dtype  \n",
      "---  ------              --------------  -----  \n",
      " 0   pair_id             4964 non-null   object \n",
      " 1   score               4964 non-null   float64\n",
      " 2   id_1                4964 non-null   object \n",
      " 3   title_1             4964 non-null   object \n",
      " 4   text_1              4964 non-null   object \n",
      " 5   keywords_1          4964 non-null   object \n",
      " 6   meta_keywords_1     4964 non-null   object \n",
      " 7   tags_1              4964 non-null   object \n",
      " 8   summary_1           4964 non-null   object \n",
      " 9   meta_description_1  4964 non-null   object \n",
      " 10  meta_lang_1         4964 non-null   object \n",
      " 11  id_2                4964 non-null   object \n",
      " 12  title_2             4964 non-null   object \n",
      " 13  text_2              4964 non-null   object \n",
      " 14  keywords_2          4964 non-null   object \n",
      " 15  meta_keywords_2     4964 non-null   object \n",
      " 16  tags_2              4964 non-null   object \n",
      " 17  summary_2           4964 non-null   object \n",
      " 18  meta_description_2  4964 non-null   object \n",
      " 19  meta_lang_2         4964 non-null   object \n",
      "dtypes: float64(1), object(19)\n",
      "memory usage: 775.8+ KB\n"
     ]
    }
   ],
   "source": [
    "train_df = create_dataframe(pair_ids, overall_scores, TRAIN_PATH, KEYS)\n",
    "train_df.info()"
   ]
  },
  {
   "cell_type": "code",
   "execution_count": 20,
   "metadata": {},
   "outputs": [
    {
     "data": {
      "text/html": [
       "<div>\n",
       "<style scoped>\n",
       "    .dataframe tbody tr th:only-of-type {\n",
       "        vertical-align: middle;\n",
       "    }\n",
       "\n",
       "    .dataframe tbody tr th {\n",
       "        vertical-align: top;\n",
       "    }\n",
       "\n",
       "    .dataframe thead th {\n",
       "        text-align: right;\n",
       "    }\n",
       "</style>\n",
       "<table border=\"1\" class=\"dataframe\">\n",
       "  <thead>\n",
       "    <tr style=\"text-align: right;\">\n",
       "      <th></th>\n",
       "      <th>score</th>\n",
       "    </tr>\n",
       "  </thead>\n",
       "  <tbody>\n",
       "    <tr>\n",
       "      <th>count</th>\n",
       "      <td>4964.000000</td>\n",
       "    </tr>\n",
       "    <tr>\n",
       "      <th>mean</th>\n",
       "      <td>2.803369</td>\n",
       "    </tr>\n",
       "    <tr>\n",
       "      <th>std</th>\n",
       "      <td>1.133874</td>\n",
       "    </tr>\n",
       "    <tr>\n",
       "      <th>min</th>\n",
       "      <td>1.000000</td>\n",
       "    </tr>\n",
       "    <tr>\n",
       "      <th>25%</th>\n",
       "      <td>2.000000</td>\n",
       "    </tr>\n",
       "    <tr>\n",
       "      <th>50%</th>\n",
       "      <td>3.000000</td>\n",
       "    </tr>\n",
       "    <tr>\n",
       "      <th>75%</th>\n",
       "      <td>4.000000</td>\n",
       "    </tr>\n",
       "    <tr>\n",
       "      <th>max</th>\n",
       "      <td>4.000000</td>\n",
       "    </tr>\n",
       "  </tbody>\n",
       "</table>\n",
       "</div>"
      ],
      "text/plain": [
       "             score\n",
       "count  4964.000000\n",
       "mean      2.803369\n",
       "std       1.133874\n",
       "min       1.000000\n",
       "25%       2.000000\n",
       "50%       3.000000\n",
       "75%       4.000000\n",
       "max       4.000000"
      ]
     },
     "execution_count": 20,
     "metadata": {},
     "output_type": "execute_result"
    }
   ],
   "source": [
    "train_df.describe()"
   ]
  },
  {
   "cell_type": "code",
   "execution_count": 21,
   "metadata": {},
   "outputs": [
    {
     "data": {
      "text/html": [
       "<div>\n",
       "<style scoped>\n",
       "    .dataframe tbody tr th:only-of-type {\n",
       "        vertical-align: middle;\n",
       "    }\n",
       "\n",
       "    .dataframe tbody tr th {\n",
       "        vertical-align: top;\n",
       "    }\n",
       "\n",
       "    .dataframe thead th {\n",
       "        text-align: right;\n",
       "    }\n",
       "</style>\n",
       "<table border=\"1\" class=\"dataframe\">\n",
       "  <thead>\n",
       "    <tr style=\"text-align: right;\">\n",
       "      <th></th>\n",
       "      <th>pair_id</th>\n",
       "      <th>score</th>\n",
       "      <th>id_1</th>\n",
       "      <th>title_1</th>\n",
       "      <th>text_1</th>\n",
       "      <th>keywords_1</th>\n",
       "      <th>meta_keywords_1</th>\n",
       "      <th>tags_1</th>\n",
       "      <th>summary_1</th>\n",
       "      <th>meta_description_1</th>\n",
       "      <th>meta_lang_1</th>\n",
       "      <th>id_2</th>\n",
       "      <th>title_2</th>\n",
       "      <th>text_2</th>\n",
       "      <th>keywords_2</th>\n",
       "      <th>meta_keywords_2</th>\n",
       "      <th>tags_2</th>\n",
       "      <th>summary_2</th>\n",
       "      <th>meta_description_2</th>\n",
       "      <th>meta_lang_2</th>\n",
       "    </tr>\n",
       "  </thead>\n",
       "  <tbody>\n",
       "    <tr>\n",
       "      <th>0</th>\n",
       "      <td>1484084337_1484110209</td>\n",
       "      <td>4.000000</td>\n",
       "      <td>1484084337</td>\n",
       "      <td>Virginia man arrested in fatal DUI crash in We...</td>\n",
       "      <td>MARTINSBURG, W.Va. — A suspected drunken drive...</td>\n",
       "      <td>[]</td>\n",
       "      <td>[Highway Fatal-DUI-West Virginia, Martinsburg,...</td>\n",
       "      <td>[]</td>\n",
       "      <td></td>\n",
       "      <td>Police in West Virginia say a suspected drunke...</td>\n",
       "      <td>en</td>\n",
       "      <td>1484110209</td>\n",
       "      <td>Haiti’s leader marks independence day amid sec...</td>\n",
       "      <td>PORT-AU-PRINCE, Haiti — Haitian President Jove...</td>\n",
       "      <td>[]</td>\n",
       "      <td>[CB-Haiti-Political Turmoil, Jean, Haiti, Cari...</td>\n",
       "      <td>[]</td>\n",
       "      <td></td>\n",
       "      <td>Haitian President Jovenel Moïse has broken wit...</td>\n",
       "      <td>en</td>\n",
       "    </tr>\n",
       "    <tr>\n",
       "      <th>1</th>\n",
       "      <td>1484396422_1483924666</td>\n",
       "      <td>3.666667</td>\n",
       "      <td>1484396422</td>\n",
       "      <td>Guyana: Three injured after car crashes into u...</td>\n",
       "      <td>Share This On:\\n\\nPin 11 Shares\\n\\n(NEWS ROOM ...</td>\n",
       "      <td>[]</td>\n",
       "      <td>[]</td>\n",
       "      <td>[]</td>\n",
       "      <td></td>\n",
       "      <td>-</td>\n",
       "      <td>en</td>\n",
       "      <td>1483924666</td>\n",
       "      <td>Fire kills more than 30 animals at zoo in west...</td>\n",
       "      <td>BERLIN - A fire at a zoo in western Germany in...</td>\n",
       "      <td>[]</td>\n",
       "      <td>[smg2_world, smg_europe, smg2_news]</td>\n",
       "      <td>[]</td>\n",
       "      <td></td>\n",
       "      <td>BERLIN - A fire at a zoo in western Germany in...</td>\n",
       "      <td>en</td>\n",
       "    </tr>\n",
       "    <tr>\n",
       "      <th>2</th>\n",
       "      <td>1484698254_1483758694</td>\n",
       "      <td>2.333333</td>\n",
       "      <td>1484698254</td>\n",
       "      <td>Trump Brings In 2020 At Mar-a-Lago: ‘We’re Goi...</td>\n",
       "      <td>(Breitbart) – President Donald Trump welcomed ...</td>\n",
       "      <td>[]</td>\n",
       "      <td>[]</td>\n",
       "      <td>[]</td>\n",
       "      <td></td>\n",
       "      <td></td>\n",
       "      <td>en</td>\n",
       "      <td>1483758694</td>\n",
       "      <td>Trump says he does not expect war with Iran, ‘...</td>\n",
       "      <td>PALM BEACH, United States — US President Donal...</td>\n",
       "      <td>[]</td>\n",
       "      <td>[]</td>\n",
       "      <td>[See All, Full Coverage 2019-2020 Israeli elec...</td>\n",
       "      <td></td>\n",
       "      <td>US president says response to rioting by pro-I...</td>\n",
       "      <td>en</td>\n",
       "    </tr>\n",
       "    <tr>\n",
       "      <th>3</th>\n",
       "      <td>1576314516_1576455088</td>\n",
       "      <td>2.000000</td>\n",
       "      <td>1576314516</td>\n",
       "      <td>Zomato Buys Uber's Food Delivery Business in I...</td>\n",
       "      <td>Uber has sold its online food-ordering busines...</td>\n",
       "      <td>[]</td>\n",
       "      <td>[zomato uber eats business acquisition india a...</td>\n",
       "      <td>[Zomato, Uber Eats]</td>\n",
       "      <td></td>\n",
       "      <td>Zomato on Tuesday announced it has acquired Ub...</td>\n",
       "      <td>en</td>\n",
       "      <td>1576455088</td>\n",
       "      <td>Indian Online Food Delivery Market to Hit $8 B...</td>\n",
       "      <td>Rapid digitisation and growth in both online b...</td>\n",
       "      <td>[]</td>\n",
       "      <td>[indian online food delivery market to hit usd...</td>\n",
       "      <td>[ber, Zomato, Swiggy, Uber Eats]</td>\n",
       "      <td></td>\n",
       "      <td>The report by Google and Boston Consulting Gro...</td>\n",
       "      <td>en</td>\n",
       "    </tr>\n",
       "    <tr>\n",
       "      <th>4</th>\n",
       "      <td>1484036253_1483894099</td>\n",
       "      <td>1.250000</td>\n",
       "      <td>1484036253</td>\n",
       "      <td>India approves third moon mission, months afte...</td>\n",
       "      <td>BENGALURU (Reuters) - India has approved its t...</td>\n",
       "      <td>[]</td>\n",
       "      <td>[]</td>\n",
       "      <td>[]</td>\n",
       "      <td></td>\n",
       "      <td>India has approved its third lunar mission mon...</td>\n",
       "      <td>en</td>\n",
       "      <td>1483894099</td>\n",
       "      <td>India targets new moon mission in 2020</td>\n",
       "      <td>BANGALORE: India plans to make a fresh attempt...</td>\n",
       "      <td>[]</td>\n",
       "      <td>[India, space]</td>\n",
       "      <td>[India, space]</td>\n",
       "      <td></td>\n",
       "      <td>India plans to make a fresh attempt to land an...</td>\n",
       "      <td>en</td>\n",
       "    </tr>\n",
       "  </tbody>\n",
       "</table>\n",
       "</div>"
      ],
      "text/plain": [
       "                 pair_id     score        id_1  \\\n",
       "0  1484084337_1484110209  4.000000  1484084337   \n",
       "1  1484396422_1483924666  3.666667  1484396422   \n",
       "2  1484698254_1483758694  2.333333  1484698254   \n",
       "3  1576314516_1576455088  2.000000  1576314516   \n",
       "4  1484036253_1483894099  1.250000  1484036253   \n",
       "\n",
       "                                             title_1  \\\n",
       "0  Virginia man arrested in fatal DUI crash in We...   \n",
       "1  Guyana: Three injured after car crashes into u...   \n",
       "2  Trump Brings In 2020 At Mar-a-Lago: ‘We’re Goi...   \n",
       "3  Zomato Buys Uber's Food Delivery Business in I...   \n",
       "4  India approves third moon mission, months afte...   \n",
       "\n",
       "                                              text_1 keywords_1  \\\n",
       "0  MARTINSBURG, W.Va. — A suspected drunken drive...         []   \n",
       "1  Share This On:\\n\\nPin 11 Shares\\n\\n(NEWS ROOM ...         []   \n",
       "2  (Breitbart) – President Donald Trump welcomed ...         []   \n",
       "3  Uber has sold its online food-ordering busines...         []   \n",
       "4  BENGALURU (Reuters) - India has approved its t...         []   \n",
       "\n",
       "                                     meta_keywords_1               tags_1  \\\n",
       "0  [Highway Fatal-DUI-West Virginia, Martinsburg,...                   []   \n",
       "1                                                 []                   []   \n",
       "2                                                 []                   []   \n",
       "3  [zomato uber eats business acquisition india a...  [Zomato, Uber Eats]   \n",
       "4                                                 []                   []   \n",
       "\n",
       "  summary_1                                 meta_description_1 meta_lang_1  \\\n",
       "0            Police in West Virginia say a suspected drunke...          en   \n",
       "1                                                            -          en   \n",
       "2                                                                       en   \n",
       "3            Zomato on Tuesday announced it has acquired Ub...          en   \n",
       "4            India has approved its third lunar mission mon...          en   \n",
       "\n",
       "         id_2                                            title_2  \\\n",
       "0  1484110209  Haiti’s leader marks independence day amid sec...   \n",
       "1  1483924666  Fire kills more than 30 animals at zoo in west...   \n",
       "2  1483758694  Trump says he does not expect war with Iran, ‘...   \n",
       "3  1576455088  Indian Online Food Delivery Market to Hit $8 B...   \n",
       "4  1483894099             India targets new moon mission in 2020   \n",
       "\n",
       "                                              text_2 keywords_2  \\\n",
       "0  PORT-AU-PRINCE, Haiti — Haitian President Jove...         []   \n",
       "1  BERLIN - A fire at a zoo in western Germany in...         []   \n",
       "2  PALM BEACH, United States — US President Donal...         []   \n",
       "3  Rapid digitisation and growth in both online b...         []   \n",
       "4  BANGALORE: India plans to make a fresh attempt...         []   \n",
       "\n",
       "                                     meta_keywords_2  \\\n",
       "0  [CB-Haiti-Political Turmoil, Jean, Haiti, Cari...   \n",
       "1                [smg2_world, smg_europe, smg2_news]   \n",
       "2                                                 []   \n",
       "3  [indian online food delivery market to hit usd...   \n",
       "4                                     [India, space]   \n",
       "\n",
       "                                              tags_2 summary_2  \\\n",
       "0                                                 []             \n",
       "1                                                 []             \n",
       "2  [See All, Full Coverage 2019-2020 Israeli elec...             \n",
       "3                   [ber, Zomato, Swiggy, Uber Eats]             \n",
       "4                                     [India, space]             \n",
       "\n",
       "                                  meta_description_2 meta_lang_2  \n",
       "0  Haitian President Jovenel Moïse has broken wit...          en  \n",
       "1  BERLIN - A fire at a zoo in western Germany in...          en  \n",
       "2  US president says response to rioting by pro-I...          en  \n",
       "3  The report by Google and Boston Consulting Gro...          en  \n",
       "4  India plans to make a fresh attempt to land an...          en  "
      ]
     },
     "execution_count": 21,
     "metadata": {},
     "output_type": "execute_result"
    }
   ],
   "source": [
    "train_df.head()"
   ]
  },
  {
   "cell_type": "code",
   "execution_count": 41,
   "metadata": {},
   "outputs": [
    {
     "data": {
      "text/plain": [
       "2171"
      ]
     },
     "execution_count": 41,
     "metadata": {},
     "output_type": "execute_result"
    }
   ],
   "source": [
    "len([l for l in train_df['meta_keywords_1'].tolist() if len(l) > 1])"
   ]
  },
  {
   "cell_type": "code",
   "execution_count": 42,
   "metadata": {},
   "outputs": [
    {
     "data": {
      "text/plain": [
       "4131"
      ]
     },
     "execution_count": 42,
     "metadata": {},
     "output_type": "execute_result"
    }
   ],
   "source": [
    "len([l for l in train_df['meta_description_1'].tolist() if len(l) > 1])"
   ]
  },
  {
   "cell_type": "code",
   "execution_count": 43,
   "metadata": {},
   "outputs": [
    {
     "data": {
      "text/plain": [
       "4918"
      ]
     },
     "execution_count": 43,
     "metadata": {},
     "output_type": "execute_result"
    }
   ],
   "source": [
    "len([l for l in train_df['title_1'].tolist() if len(l) > 1])"
   ]
  },
  {
   "cell_type": "code",
   "execution_count": 44,
   "metadata": {},
   "outputs": [
    {
     "data": {
      "text/plain": [
       "1156"
      ]
     },
     "execution_count": 44,
     "metadata": {},
     "output_type": "execute_result"
    }
   ],
   "source": [
    "len([l for l in train_df['tags_1'].tolist() if len(l) > 1])"
   ]
  },
  {
   "cell_type": "code",
   "execution_count": 22,
   "metadata": {},
   "outputs": [],
   "source": [
    "train_df.to_csv('semeval-2022-task-8-train-df.csv', index=False)"
   ]
  },
  {
   "cell_type": "code",
   "execution_count": 23,
   "metadata": {},
   "outputs": [],
   "source": [
    "EVAL_PATH = 'eval-downloaded-data'"
   ]
  },
  {
   "cell_type": "code",
   "execution_count": 24,
   "metadata": {},
   "outputs": [
    {
     "name": "stdout",
     "output_type": "stream",
     "text": [
      "<class 'pandas.core.frame.DataFrame'>\n",
      "RangeIndex: 4953 entries, 0 to 4952\n",
      "Data columns (total 7 columns):\n",
      " #   Column     Non-Null Count  Dtype \n",
      "---  ------     --------------  ----- \n",
      " 0   url1_lang  4953 non-null   object\n",
      " 1   url2_lang  4953 non-null   object\n",
      " 2   pair_id    4953 non-null   object\n",
      " 3   link1      4953 non-null   object\n",
      " 4   link2      4953 non-null   object\n",
      " 5   ia_link1   4953 non-null   object\n",
      " 6   ia_link2   4953 non-null   object\n",
      "dtypes: object(7)\n",
      "memory usage: 271.0+ KB\n"
     ]
    }
   ],
   "source": [
    "eval_data = pd.read_csv('semeval-2022_task8_eval_data_202201.csv')\n",
    "eval_data.info()"
   ]
  },
  {
   "cell_type": "code",
   "execution_count": 25,
   "metadata": {},
   "outputs": [
    {
     "data": {
      "text/html": [
       "<div>\n",
       "<style scoped>\n",
       "    .dataframe tbody tr th:only-of-type {\n",
       "        vertical-align: middle;\n",
       "    }\n",
       "\n",
       "    .dataframe tbody tr th {\n",
       "        vertical-align: top;\n",
       "    }\n",
       "\n",
       "    .dataframe thead th {\n",
       "        text-align: right;\n",
       "    }\n",
       "</style>\n",
       "<table border=\"1\" class=\"dataframe\">\n",
       "  <thead>\n",
       "    <tr style=\"text-align: right;\">\n",
       "      <th></th>\n",
       "      <th>url1_lang</th>\n",
       "      <th>url2_lang</th>\n",
       "      <th>pair_id</th>\n",
       "      <th>link1</th>\n",
       "      <th>link2</th>\n",
       "      <th>ia_link1</th>\n",
       "      <th>ia_link2</th>\n",
       "    </tr>\n",
       "  </thead>\n",
       "  <tbody>\n",
       "    <tr>\n",
       "      <th>0</th>\n",
       "      <td>en</td>\n",
       "      <td>en</td>\n",
       "      <td>1484189203_1484121193</td>\n",
       "      <td>https://wsvn.com/news/local/broward/police-2-m...</td>\n",
       "      <td>https://wsvn.com/news/local/no-swim-advisory-l...</td>\n",
       "      <td>https://web.archive.org/web/https://wsvn.com/n...</td>\n",
       "      <td>https://web.archive.org/web/https://wsvn.com/n...</td>\n",
       "    </tr>\n",
       "    <tr>\n",
       "      <th>1</th>\n",
       "      <td>en</td>\n",
       "      <td>en</td>\n",
       "      <td>1484011097_1484011106</td>\n",
       "      <td>https://www.zdnet.com/article/autoclerk-databa...</td>\n",
       "      <td>https://securityboulevard.com/2019/10/best-wes...</td>\n",
       "      <td>https://web.archive.org/web/https://www.zdnet....</td>\n",
       "      <td>https://web.archive.org/web/https://securitybo...</td>\n",
       "    </tr>\n",
       "    <tr>\n",
       "      <th>2</th>\n",
       "      <td>en</td>\n",
       "      <td>en</td>\n",
       "      <td>1484039488_1484261803</td>\n",
       "      <td>https://www.presstelegram.com/2019/12/31/ducks...</td>\n",
       "      <td>https://boingboing.net/2020/01/01/woody-guthri...</td>\n",
       "      <td>https://web.archive.org/web/https://www.presst...</td>\n",
       "      <td>https://web.archive.org/web/https://boingboing...</td>\n",
       "    </tr>\n",
       "    <tr>\n",
       "      <th>3</th>\n",
       "      <td>en</td>\n",
       "      <td>en</td>\n",
       "      <td>1484332324_1484796748</td>\n",
       "      <td>https://www.financialexpress.com/india-news/we...</td>\n",
       "      <td>https://www.news18.com/news/india/not-the-firs...</td>\n",
       "      <td>https://web.archive.org/web/https://www.financ...</td>\n",
       "      <td>https://web.archive.org/web/https://www.news18...</td>\n",
       "    </tr>\n",
       "    <tr>\n",
       "      <th>4</th>\n",
       "      <td>en</td>\n",
       "      <td>en</td>\n",
       "      <td>1484012256_1484419682</td>\n",
       "      <td>https://www.birminghammail.co.uk/whats-on/musi...</td>\n",
       "      <td>http://m.fightbacknews.org/2020/1/1/top-20-fil...</td>\n",
       "      <td>https://web.archive.org/web/https://www.birmin...</td>\n",
       "      <td>https://web.archive.org/web/http://m.fightback...</td>\n",
       "    </tr>\n",
       "  </tbody>\n",
       "</table>\n",
       "</div>"
      ],
      "text/plain": [
       "  url1_lang url2_lang                pair_id  \\\n",
       "0        en        en  1484189203_1484121193   \n",
       "1        en        en  1484011097_1484011106   \n",
       "2        en        en  1484039488_1484261803   \n",
       "3        en        en  1484332324_1484796748   \n",
       "4        en        en  1484012256_1484419682   \n",
       "\n",
       "                                               link1  \\\n",
       "0  https://wsvn.com/news/local/broward/police-2-m...   \n",
       "1  https://www.zdnet.com/article/autoclerk-databa...   \n",
       "2  https://www.presstelegram.com/2019/12/31/ducks...   \n",
       "3  https://www.financialexpress.com/india-news/we...   \n",
       "4  https://www.birminghammail.co.uk/whats-on/musi...   \n",
       "\n",
       "                                               link2  \\\n",
       "0  https://wsvn.com/news/local/no-swim-advisory-l...   \n",
       "1  https://securityboulevard.com/2019/10/best-wes...   \n",
       "2  https://boingboing.net/2020/01/01/woody-guthri...   \n",
       "3  https://www.news18.com/news/india/not-the-firs...   \n",
       "4  http://m.fightbacknews.org/2020/1/1/top-20-fil...   \n",
       "\n",
       "                                            ia_link1  \\\n",
       "0  https://web.archive.org/web/https://wsvn.com/n...   \n",
       "1  https://web.archive.org/web/https://www.zdnet....   \n",
       "2  https://web.archive.org/web/https://www.presst...   \n",
       "3  https://web.archive.org/web/https://www.financ...   \n",
       "4  https://web.archive.org/web/https://www.birmin...   \n",
       "\n",
       "                                            ia_link2  \n",
       "0  https://web.archive.org/web/https://wsvn.com/n...  \n",
       "1  https://web.archive.org/web/https://securitybo...  \n",
       "2  https://web.archive.org/web/https://boingboing...  \n",
       "3  https://web.archive.org/web/https://www.news18...  \n",
       "4  https://web.archive.org/web/http://m.fightback...  "
      ]
     },
     "execution_count": 25,
     "metadata": {},
     "output_type": "execute_result"
    }
   ],
   "source": [
    "eval_data.head()"
   ]
  },
  {
   "cell_type": "code",
   "execution_count": 26,
   "metadata": {},
   "outputs": [
    {
     "data": {
      "text/plain": [
       "4953"
      ]
     },
     "execution_count": 26,
     "metadata": {},
     "output_type": "execute_result"
    }
   ],
   "source": [
    "eval_pair_ids = eval_data['pair_id'].tolist()\n",
    "len(eval_pair_ids)"
   ]
  },
  {
   "cell_type": "code",
   "execution_count": 27,
   "metadata": {},
   "outputs": [
    {
     "name": "stdout",
     "output_type": "stream",
     "text": [
      "{'source_url': 'DUMMY', 'url': 'DUMMY', 'title': 'DUMMY', 'top_image': 'DUMMY', 'meta_img': 'DUMMY', 'images': 'DUMMY', 'movies': 'DUMMY', 'text': 'DUMMY', 'keywords': 'DUMMY', 'meta_keywords': 'DUMMY', 'tags': 'DUMMY', 'authors': 'DUMMY', 'publish_date': 'DUMMY', 'summary': 'DUMMY', 'article_html': 'DUMMY', 'meta_description': 'DUMMY', 'meta_lang': 'DUMMY', 'meta_favicon': 'DUMMY', 'meta_data': 'DUMMY', 'canonical_link': 'DUMMY'}\n",
      "Found missing: eval-downloaded-data/93/1541435293.json\n",
      "Found missing: eval-downloaded-data/89/1529812889.json\n",
      "Found missing: eval-downloaded-data/27/1494282527.json\n",
      "Found missing: eval-downloaded-data/63/1518145463.json\n",
      "Found missing: eval-downloaded-data/98/1561541298.json\n",
      "Found missing: eval-downloaded-data/20/1653429720.json\n",
      "Found missing: eval-downloaded-data/10/1556659610.json\n",
      "Found missing: eval-downloaded-data/94/1586615494.json\n",
      "Found missing: eval-downloaded-data/39/1507042939.json\n",
      "Found missing: eval-downloaded-data/16/1588907816.json\n",
      "Found missing: eval-downloaded-data/62/1625559062.json\n",
      "Found missing: eval-downloaded-data/50/1636290950.json\n",
      "Found missing: eval-downloaded-data/25/1530565125.json\n",
      "Found missing: eval-downloaded-data/32/1603827932.json\n",
      "Found missing: eval-downloaded-data/67/1626509167.json\n",
      "Found missing: eval-downloaded-data/93/1644202493.json\n",
      "Found missing: eval-downloaded-data/90/1602007090.json\n",
      "Found missing: eval-downloaded-data/48/1646938548.json\n",
      "Found missing: eval-downloaded-data/37/1641156237.json\n",
      "Found missing: eval-downloaded-data/70/1592591570.json\n",
      "Found missing: eval-downloaded-data/06/1506985006.json\n"
     ]
    },
    {
     "data": {
      "text/plain": [
       "(21,\n",
       " ['eval-downloaded-data/93/1541435293.json',\n",
       "  'eval-downloaded-data/89/1529812889.json',\n",
       "  'eval-downloaded-data/27/1494282527.json',\n",
       "  'eval-downloaded-data/63/1518145463.json',\n",
       "  'eval-downloaded-data/98/1561541298.json',\n",
       "  'eval-downloaded-data/20/1653429720.json',\n",
       "  'eval-downloaded-data/10/1556659610.json',\n",
       "  'eval-downloaded-data/94/1586615494.json',\n",
       "  'eval-downloaded-data/39/1507042939.json',\n",
       "  'eval-downloaded-data/16/1588907816.json',\n",
       "  'eval-downloaded-data/62/1625559062.json',\n",
       "  'eval-downloaded-data/50/1636290950.json',\n",
       "  'eval-downloaded-data/25/1530565125.json',\n",
       "  'eval-downloaded-data/32/1603827932.json',\n",
       "  'eval-downloaded-data/67/1626509167.json',\n",
       "  'eval-downloaded-data/93/1644202493.json',\n",
       "  'eval-downloaded-data/90/1602007090.json',\n",
       "  'eval-downloaded-data/48/1646938548.json',\n",
       "  'eval-downloaded-data/37/1641156237.json',\n",
       "  'eval-downloaded-data/70/1592591570.json',\n",
       "  'eval-downloaded-data/06/1506985006.json'])"
      ]
     },
     "execution_count": 27,
     "metadata": {},
     "output_type": "execute_result"
    }
   ],
   "source": [
    "missing_paths = find_and_replace_missing_with_dummies(eval_pair_ids, EVAL_PATH)\n",
    "len(missing_paths), missing_paths"
   ]
  },
  {
   "cell_type": "code",
   "execution_count": 29,
   "metadata": {},
   "outputs": [
    {
     "name": "stdout",
     "output_type": "stream",
     "text": [
      "{'source_url': 'DUMMY', 'url': 'DUMMY', 'title': 'DUMMY', 'top_image': 'DUMMY', 'meta_img': 'DUMMY', 'images': 'DUMMY', 'movies': 'DUMMY', 'text': 'DUMMY', 'keywords': 'DUMMY', 'meta_keywords': 'DUMMY', 'tags': 'DUMMY', 'authors': 'DUMMY', 'publish_date': 'DUMMY', 'summary': 'DUMMY', 'article_html': 'DUMMY', 'meta_description': 'DUMMY', 'meta_lang': 'DUMMY', 'meta_favicon': 'DUMMY', 'meta_data': 'DUMMY', 'canonical_link': 'DUMMY'}\n"
     ]
    },
    {
     "data": {
      "text/plain": [
       "(0, [])"
      ]
     },
     "execution_count": 29,
     "metadata": {},
     "output_type": "execute_result"
    }
   ],
   "source": [
    "missing_paths = find_and_replace_missing_with_dummies(eval_pair_ids, EVAL_PATH)\n",
    "len(missing_paths), missing_paths"
   ]
  },
  {
   "cell_type": "code",
   "execution_count": 30,
   "metadata": {},
   "outputs": [
    {
     "data": {
      "text/plain": [
       "dict_keys(['source_url', 'url', 'title', 'top_image', 'meta_img', 'images', 'movies', 'text', 'keywords', 'meta_keywords', 'tags', 'authors', 'publish_date', 'summary', 'article_html', 'meta_description', 'meta_lang', 'meta_favicon', 'meta_data', 'canonical_link'])"
      ]
     },
     "execution_count": 30,
     "metadata": {},
     "output_type": "execute_result"
    }
   ],
   "source": [
    "idx = eval_pair_ids[100].split('_')[0]\n",
    "sample = get_sample_from_file_id(idx, EVAL_PATH)\n",
    "sample.keys()"
   ]
  },
  {
   "cell_type": "code",
   "execution_count": 31,
   "metadata": {},
   "outputs": [
    {
     "name": "stdout",
     "output_type": "stream",
     "text": [
      "<class 'pandas.core.frame.DataFrame'>\n",
      "RangeIndex: 4953 entries, 0 to 4952\n",
      "Data columns (total 20 columns):\n",
      " #   Column              Non-Null Count  Dtype \n",
      "---  ------              --------------  ----- \n",
      " 0   pair_id             4953 non-null   object\n",
      " 1   score               4953 non-null   int64 \n",
      " 2   id_1                4953 non-null   object\n",
      " 3   title_1             4953 non-null   object\n",
      " 4   text_1              4953 non-null   object\n",
      " 5   keywords_1          4953 non-null   object\n",
      " 6   meta_keywords_1     4953 non-null   object\n",
      " 7   tags_1              4953 non-null   object\n",
      " 8   summary_1           4953 non-null   object\n",
      " 9   meta_description_1  4953 non-null   object\n",
      " 10  meta_lang_1         4953 non-null   object\n",
      " 11  id_2                4953 non-null   object\n",
      " 12  title_2             4953 non-null   object\n",
      " 13  text_2              4953 non-null   object\n",
      " 14  keywords_2          4953 non-null   object\n",
      " 15  meta_keywords_2     4953 non-null   object\n",
      " 16  tags_2              4953 non-null   object\n",
      " 17  summary_2           4953 non-null   object\n",
      " 18  meta_description_2  4953 non-null   object\n",
      " 19  meta_lang_2         4953 non-null   object\n",
      "dtypes: int64(1), object(19)\n",
      "memory usage: 774.0+ KB\n"
     ]
    }
   ],
   "source": [
    "dummy_scores = [0] * len(eval_pair_ids)\n",
    "eval_df = create_dataframe(eval_pair_ids, dummy_scores, EVAL_PATH, KEYS)\n",
    "eval_df.info()"
   ]
  },
  {
   "cell_type": "code",
   "execution_count": 32,
   "metadata": {},
   "outputs": [
    {
     "data": {
      "text/html": [
       "<div>\n",
       "<style scoped>\n",
       "    .dataframe tbody tr th:only-of-type {\n",
       "        vertical-align: middle;\n",
       "    }\n",
       "\n",
       "    .dataframe tbody tr th {\n",
       "        vertical-align: top;\n",
       "    }\n",
       "\n",
       "    .dataframe thead th {\n",
       "        text-align: right;\n",
       "    }\n",
       "</style>\n",
       "<table border=\"1\" class=\"dataframe\">\n",
       "  <thead>\n",
       "    <tr style=\"text-align: right;\">\n",
       "      <th></th>\n",
       "      <th>score</th>\n",
       "    </tr>\n",
       "  </thead>\n",
       "  <tbody>\n",
       "    <tr>\n",
       "      <th>count</th>\n",
       "      <td>4953.0</td>\n",
       "    </tr>\n",
       "    <tr>\n",
       "      <th>mean</th>\n",
       "      <td>0.0</td>\n",
       "    </tr>\n",
       "    <tr>\n",
       "      <th>std</th>\n",
       "      <td>0.0</td>\n",
       "    </tr>\n",
       "    <tr>\n",
       "      <th>min</th>\n",
       "      <td>0.0</td>\n",
       "    </tr>\n",
       "    <tr>\n",
       "      <th>25%</th>\n",
       "      <td>0.0</td>\n",
       "    </tr>\n",
       "    <tr>\n",
       "      <th>50%</th>\n",
       "      <td>0.0</td>\n",
       "    </tr>\n",
       "    <tr>\n",
       "      <th>75%</th>\n",
       "      <td>0.0</td>\n",
       "    </tr>\n",
       "    <tr>\n",
       "      <th>max</th>\n",
       "      <td>0.0</td>\n",
       "    </tr>\n",
       "  </tbody>\n",
       "</table>\n",
       "</div>"
      ],
      "text/plain": [
       "        score\n",
       "count  4953.0\n",
       "mean      0.0\n",
       "std       0.0\n",
       "min       0.0\n",
       "25%       0.0\n",
       "50%       0.0\n",
       "75%       0.0\n",
       "max       0.0"
      ]
     },
     "execution_count": 32,
     "metadata": {},
     "output_type": "execute_result"
    }
   ],
   "source": [
    "eval_df.describe()"
   ]
  },
  {
   "cell_type": "code",
   "execution_count": 33,
   "metadata": {},
   "outputs": [
    {
     "data": {
      "text/html": [
       "<div>\n",
       "<style scoped>\n",
       "    .dataframe tbody tr th:only-of-type {\n",
       "        vertical-align: middle;\n",
       "    }\n",
       "\n",
       "    .dataframe tbody tr th {\n",
       "        vertical-align: top;\n",
       "    }\n",
       "\n",
       "    .dataframe thead th {\n",
       "        text-align: right;\n",
       "    }\n",
       "</style>\n",
       "<table border=\"1\" class=\"dataframe\">\n",
       "  <thead>\n",
       "    <tr style=\"text-align: right;\">\n",
       "      <th></th>\n",
       "      <th>pair_id</th>\n",
       "      <th>score</th>\n",
       "      <th>id_1</th>\n",
       "      <th>title_1</th>\n",
       "      <th>text_1</th>\n",
       "      <th>keywords_1</th>\n",
       "      <th>meta_keywords_1</th>\n",
       "      <th>tags_1</th>\n",
       "      <th>summary_1</th>\n",
       "      <th>meta_description_1</th>\n",
       "      <th>meta_lang_1</th>\n",
       "      <th>id_2</th>\n",
       "      <th>title_2</th>\n",
       "      <th>text_2</th>\n",
       "      <th>keywords_2</th>\n",
       "      <th>meta_keywords_2</th>\n",
       "      <th>tags_2</th>\n",
       "      <th>summary_2</th>\n",
       "      <th>meta_description_2</th>\n",
       "      <th>meta_lang_2</th>\n",
       "    </tr>\n",
       "  </thead>\n",
       "  <tbody>\n",
       "    <tr>\n",
       "      <th>0</th>\n",
       "      <td>1484189203_1484121193</td>\n",
       "      <td>0</td>\n",
       "      <td>1484189203</td>\n",
       "      <td>Police: 2 men stole tools from Lowe’s in Davie</td>\n",
       "      <td>DAVIE, FLA. (WSVN) - Police need help catching...</td>\n",
       "      <td>[]</td>\n",
       "      <td>[]</td>\n",
       "      <td>[Trending, More Trending Stories]</td>\n",
       "      <td></td>\n",
       "      <td></td>\n",
       "      <td>en</td>\n",
       "      <td>1484121193</td>\n",
       "      <td>No-swim advisory lifted for Deerfield Beach Pier</td>\n",
       "      <td>DEERFIELD BEACH, FLA. (WSVN) - A no-swim advis...</td>\n",
       "      <td>[]</td>\n",
       "      <td>[]</td>\n",
       "      <td>[Trending, More Trending Stories]</td>\n",
       "      <td></td>\n",
       "      <td></td>\n",
       "      <td>en</td>\n",
       "    </tr>\n",
       "    <tr>\n",
       "      <th>1</th>\n",
       "      <td>1484011097_1484011106</td>\n",
       "      <td>0</td>\n",
       "      <td>1484011097</td>\n",
       "      <td>Open database leaked 179GB in customer, US gov...</td>\n",
       "      <td>Govt officials confirm Trump can block US comp...</td>\n",
       "      <td>[]</td>\n",
       "      <td>[]</td>\n",
       "      <td>[Data Management, Topics, See All Topics, Data...</td>\n",
       "      <td></td>\n",
       "      <td>The US Department of Homeland Security has bec...</td>\n",
       "      <td>en</td>\n",
       "      <td>1484011106</td>\n",
       "      <td>Best Western’s Massive Data Leak: 179GB Amazon...</td>\n",
       "      <td>The latest huge unsecured cloud storage find i...</td>\n",
       "      <td>[]</td>\n",
       "      <td>[]</td>\n",
       "      <td>[Security News, Information Security, aws, Pri...</td>\n",
       "      <td></td>\n",
       "      <td>The latest huge unsecured cloud storage find i...</td>\n",
       "      <td>en</td>\n",
       "    </tr>\n",
       "    <tr>\n",
       "      <th>2</th>\n",
       "      <td>1484039488_1484261803</td>\n",
       "      <td>0</td>\n",
       "      <td>1484039488</td>\n",
       "      <td>Ducks are own worst enemies in sloppy loss in ...</td>\n",
       "      <td>Ducks defenseman Erik Gudbranson, left, knocks...</td>\n",
       "      <td>[]</td>\n",
       "      <td>[]</td>\n",
       "      <td>[anaheim-ducks]</td>\n",
       "      <td></td>\n",
       "      <td></td>\n",
       "      <td>en</td>\n",
       "      <td>1484261803</td>\n",
       "      <td>Woody Guthrie's 1943 New Year's Resolutions ar...</td>\n",
       "      <td>Woody Guthrie's 1943 New Year's Resolutions ar...</td>\n",
       "      <td>[]</td>\n",
       "      <td>[]</td>\n",
       "      <td>[resolutions, keep the hope machine running, b...</td>\n",
       "      <td></td>\n",
       "      <td>I'd seen this before, but I was reminded of it...</td>\n",
       "      <td>en</td>\n",
       "    </tr>\n",
       "    <tr>\n",
       "      <th>3</th>\n",
       "      <td>1484332324_1484796748</td>\n",
       "      <td>0</td>\n",
       "      <td>1484332324</td>\n",
       "      <td>Another Bengal vs Centre tussle? Govt rejects ...</td>\n",
       "      <td>The West Bengal government’s proposal was reje...</td>\n",
       "      <td>[]</td>\n",
       "      <td>[republic day, west bengal tableau, bengal rep...</td>\n",
       "      <td>[]</td>\n",
       "      <td></td>\n",
       "      <td>The West Bengal government's proposal was reje...</td>\n",
       "      <td>en</td>\n",
       "      <td>1484796748</td>\n",
       "      <td>'Congress Rejected 7 Times': BJP's Reminder as...</td>\n",
       "      <td>Mumbai: The NCP and Shiv Sena on Thursday targ...</td>\n",
       "      <td>[]</td>\n",
       "      <td>[BJP, congress, Mamata Banerjee, NCP, Republic...</td>\n",
       "      <td>[]</td>\n",
       "      <td></td>\n",
       "      <td>BJP ally and Union minister Ramdas Athawale sa...</td>\n",
       "      <td></td>\n",
       "    </tr>\n",
       "    <tr>\n",
       "      <th>4</th>\n",
       "      <td>1484012256_1484419682</td>\n",
       "      <td>0</td>\n",
       "      <td>1484012256</td>\n",
       "      <td>Bars and clubs you loved and lost this decade ...</td>\n",
       "      <td>The video will start in 8 Cancel\\n\\nSign up to...</td>\n",
       "      <td>[]</td>\n",
       "      <td>[Birmingham City Centre, Digbeth, Things To Do...</td>\n",
       "      <td>[]</td>\n",
       "      <td></td>\n",
       "      <td>Nightclubs and bars that have closed in the pa...</td>\n",
       "      <td></td>\n",
       "      <td>1484419682</td>\n",
       "      <td>Top 20 films of the 2010s</td>\n",
       "      <td>Jacksonville, FL - I'm not sure how we'll look...</td>\n",
       "      <td>[]</td>\n",
       "      <td>[organizing, activism, socialism, People's Str...</td>\n",
       "      <td>[Movies]</td>\n",
       "      <td></td>\n",
       "      <td>Jacksonville, FL - I'm not sure how we'll look...</td>\n",
       "      <td>en</td>\n",
       "    </tr>\n",
       "  </tbody>\n",
       "</table>\n",
       "</div>"
      ],
      "text/plain": [
       "                 pair_id  score        id_1  \\\n",
       "0  1484189203_1484121193      0  1484189203   \n",
       "1  1484011097_1484011106      0  1484011097   \n",
       "2  1484039488_1484261803      0  1484039488   \n",
       "3  1484332324_1484796748      0  1484332324   \n",
       "4  1484012256_1484419682      0  1484012256   \n",
       "\n",
       "                                             title_1  \\\n",
       "0     Police: 2 men stole tools from Lowe’s in Davie   \n",
       "1  Open database leaked 179GB in customer, US gov...   \n",
       "2  Ducks are own worst enemies in sloppy loss in ...   \n",
       "3  Another Bengal vs Centre tussle? Govt rejects ...   \n",
       "4  Bars and clubs you loved and lost this decade ...   \n",
       "\n",
       "                                              text_1 keywords_1  \\\n",
       "0  DAVIE, FLA. (WSVN) - Police need help catching...         []   \n",
       "1  Govt officials confirm Trump can block US comp...         []   \n",
       "2  Ducks defenseman Erik Gudbranson, left, knocks...         []   \n",
       "3  The West Bengal government’s proposal was reje...         []   \n",
       "4  The video will start in 8 Cancel\\n\\nSign up to...         []   \n",
       "\n",
       "                                     meta_keywords_1  \\\n",
       "0                                                 []   \n",
       "1                                                 []   \n",
       "2                                                 []   \n",
       "3  [republic day, west bengal tableau, bengal rep...   \n",
       "4  [Birmingham City Centre, Digbeth, Things To Do...   \n",
       "\n",
       "                                              tags_1 summary_1  \\\n",
       "0                  [Trending, More Trending Stories]             \n",
       "1  [Data Management, Topics, See All Topics, Data...             \n",
       "2                                    [anaheim-ducks]             \n",
       "3                                                 []             \n",
       "4                                                 []             \n",
       "\n",
       "                                  meta_description_1 meta_lang_1        id_2  \\\n",
       "0                                                             en  1484121193   \n",
       "1  The US Department of Homeland Security has bec...          en  1484011106   \n",
       "2                                                             en  1484261803   \n",
       "3  The West Bengal government's proposal was reje...          en  1484796748   \n",
       "4  Nightclubs and bars that have closed in the pa...              1484419682   \n",
       "\n",
       "                                             title_2  \\\n",
       "0   No-swim advisory lifted for Deerfield Beach Pier   \n",
       "1  Best Western’s Massive Data Leak: 179GB Amazon...   \n",
       "2  Woody Guthrie's 1943 New Year's Resolutions ar...   \n",
       "3  'Congress Rejected 7 Times': BJP's Reminder as...   \n",
       "4                          Top 20 films of the 2010s   \n",
       "\n",
       "                                              text_2 keywords_2  \\\n",
       "0  DEERFIELD BEACH, FLA. (WSVN) - A no-swim advis...         []   \n",
       "1  The latest huge unsecured cloud storage find i...         []   \n",
       "2  Woody Guthrie's 1943 New Year's Resolutions ar...         []   \n",
       "3  Mumbai: The NCP and Shiv Sena on Thursday targ...         []   \n",
       "4  Jacksonville, FL - I'm not sure how we'll look...         []   \n",
       "\n",
       "                                     meta_keywords_2  \\\n",
       "0                                                 []   \n",
       "1                                                 []   \n",
       "2                                                 []   \n",
       "3  [BJP, congress, Mamata Banerjee, NCP, Republic...   \n",
       "4  [organizing, activism, socialism, People's Str...   \n",
       "\n",
       "                                              tags_2 summary_2  \\\n",
       "0                  [Trending, More Trending Stories]             \n",
       "1  [Security News, Information Security, aws, Pri...             \n",
       "2  [resolutions, keep the hope machine running, b...             \n",
       "3                                                 []             \n",
       "4                                           [Movies]             \n",
       "\n",
       "                                  meta_description_2 meta_lang_2  \n",
       "0                                                             en  \n",
       "1  The latest huge unsecured cloud storage find i...          en  \n",
       "2  I'd seen this before, but I was reminded of it...          en  \n",
       "3  BJP ally and Union minister Ramdas Athawale sa...              \n",
       "4  Jacksonville, FL - I'm not sure how we'll look...          en  "
      ]
     },
     "execution_count": 33,
     "metadata": {},
     "output_type": "execute_result"
    }
   ],
   "source": [
    "eval_df.head()"
   ]
  },
  {
   "cell_type": "code",
   "execution_count": 33,
   "metadata": {},
   "outputs": [],
   "source": [
    "eval_df.to_csv('semeval-2022-task-8-eval-df.csv', index=False)"
   ]
  },
  {
   "cell_type": "code",
   "execution_count": null,
   "metadata": {},
   "outputs": [],
   "source": []
  }
 ],
 "metadata": {
  "interpreter": {
   "hash": "57ba542a7e01434f0efba8458620b8a5d586d5cdb58a6ff11a95f38e977018f2"
  },
  "kernelspec": {
   "display_name": "Python 3.9.1 64-bit ('base': conda)",
   "language": "python",
   "name": "python3"
  },
  "language_info": {
   "codemirror_mode": {
    "name": "ipython",
    "version": 3
   },
   "file_extension": ".py",
   "mimetype": "text/x-python",
   "name": "python",
   "nbconvert_exporter": "python",
   "pygments_lexer": "ipython3",
   "version": "3.9.1"
  },
  "orig_nbformat": 4
 },
 "nbformat": 4,
 "nbformat_minor": 2
}
